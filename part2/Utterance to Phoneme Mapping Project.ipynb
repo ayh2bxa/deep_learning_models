{
  "cells": [
    {
      "cell_type": "markdown",
      "metadata": {
        "id": "UR4qfYrVoO4v"
      },
      "source": [
        "# Installs"
      ]
    },
    {
      "cell_type": "code",
      "execution_count": 1,
      "metadata": {
        "id": "mA9qZoIDcx-h"
      },
      "outputs": [],
      "source": [
        "!pip install wandb -q"
      ]
    },
    {
      "cell_type": "markdown",
      "metadata": {
        "id": "ONgAWhqdoYy-"
      },
      "source": [
        "### Levenshtein\n",
        "\n",
        "This may take a while"
      ]
    },
    {
      "cell_type": "code",
      "execution_count": 2,
      "metadata": {
        "id": "SS7a7xeEoaV9",
        "colab": {
          "base_uri": "https://localhost:8080/"
        },
        "outputId": "2c388d60-23e2-4e9c-81dc-7144a39f5256"
      },
      "outputs": [
        {
          "output_type": "stream",
          "name": "stdout",
          "text": [
            "fatal: destination path 'ctcdecode' already exists and is not an empty directory.\n",
            "/content/ctcdecode\n",
            "  Preparing metadata (setup.py) ... \u001b[?25l\u001b[?25hdone\n",
            "  Building wheel for ctcdecode (setup.py) ... \u001b[?25l\u001b[?25hdone\n",
            "/content\n"
          ]
        }
      ],
      "source": [
        "!pip install wandb --quiet\n",
        "!pip install python-Levenshtein -q\n",
        "!git clone --recursive https://github.com/parlance/ctcdecode.git\n",
        "!pip install wget -q\n",
        "%cd ctcdecode\n",
        "!pip install . -q\n",
        "%cd ..\n",
        "\n",
        "!pip install torchsummaryX -q"
      ]
    },
    {
      "cell_type": "markdown",
      "metadata": {
        "id": "IWVONJxCobPc"
      },
      "source": [
        "## Imports"
      ]
    },
    {
      "cell_type": "code",
      "execution_count": 3,
      "metadata": {
        "id": "78ZTCIXoof2f",
        "colab": {
          "base_uri": "https://localhost:8080/"
        },
        "outputId": "93ac75d0-3235-4afe-8665-9c4c23c18a89"
      },
      "outputs": [
        {
          "output_type": "stream",
          "name": "stdout",
          "text": [
            "Device:  cuda\n"
          ]
        }
      ],
      "source": [
        "import torch\n",
        "import random\n",
        "import numpy as np\n",
        "import torch.nn as nn\n",
        "import torch.nn.functional as F\n",
        "from torchsummaryX import summary\n",
        "from torch.utils.data import Dataset, DataLoader\n",
        "from torch.nn.utils.rnn import pad_sequence, pack_padded_sequence, pad_packed_sequence\n",
        "\n",
        "import torchaudio.transforms as tat\n",
        "\n",
        "from sklearn.metrics import accuracy_score\n",
        "import gc\n",
        "\n",
        "import zipfile\n",
        "import pandas as pd\n",
        "from tqdm import tqdm\n",
        "import os\n",
        "import datetime\n",
        "\n",
        "# imports for decoding and distance calculation\n",
        "import ctcdecode\n",
        "import Levenshtein\n",
        "from ctcdecode import CTCBeamDecoder\n",
        "\n",
        "import warnings\n",
        "warnings.filterwarnings('ignore')\n",
        "\n",
        "device = 'cuda' if torch.cuda.is_available() else 'cpu'\n",
        "print(\"Device: \", device)"
      ]
    },
    {
      "cell_type": "markdown",
      "metadata": {
        "id": "gg3-yJ8tok34"
      },
      "source": [
        "# Kaggle Setup"
      ]
    },
    {
      "cell_type": "code",
      "execution_count": null,
      "metadata": {
        "id": "AdUelfGhom1m",
        "colab": {
          "base_uri": "https://localhost:8080/"
        },
        "outputId": "0957af6f-b759-463d-df3b-ee5839f15730"
      },
      "outputs": [
        {
          "output_type": "stream",
          "name": "stdout",
          "text": [
            "Looking in indexes: https://pypi.org/simple, https://us-python.pkg.dev/colab-wheels/public/simple/\n",
            "Collecting kaggle==1.5.8\n",
            "  Downloading kaggle-1.5.8.tar.gz (59 kB)\n",
            "\u001b[2K     \u001b[90m━━━━━━━━━━━━━━━━━━━━━━━━━━━━━━━━━━━━━━━━\u001b[0m \u001b[32m59.2/59.2 kB\u001b[0m \u001b[31m6.0 MB/s\u001b[0m eta \u001b[36m0:00:00\u001b[0m\n",
            "\u001b[?25h  Preparing metadata (setup.py) ... \u001b[?25l\u001b[?25hdone\n",
            "Building wheels for collected packages: kaggle\n",
            "  Building wheel for kaggle (setup.py) ... \u001b[?25l\u001b[?25hdone\n",
            "  Created wheel for kaggle: filename=kaggle-1.5.8-py3-none-any.whl size=73272 sha256=5b7acae11ed51f118fef260e9a83eadce9fd5426ba620468c33eec7e9408973d\n",
            "  Stored in directory: /root/.cache/pip/wheels/d4/02/ef/3f8c8d86b8d5388a1d3155876837f1a1a3143ab3fc2ff1ffad\n",
            "Successfully built kaggle\n",
            "Installing collected packages: kaggle\n",
            "  Attempting uninstall: kaggle\n",
            "    Found existing installation: kaggle 1.5.13\n",
            "    Uninstalling kaggle-1.5.13:\n",
            "      Successfully uninstalled kaggle-1.5.13\n",
            "Successfully installed kaggle-1.5.8\n"
          ]
        }
      ],
      "source": [
        "!pip install --upgrade --force-reinstall --no-deps kaggle==1.5.8\n",
        "!mkdir /root/.kaggle\n",
        "\n",
        "with open(\"/root/.kaggle/kaggle.json\", \"w+\") as f:\n",
        "    f.write('{\"username\":\"ayh2cfa\",\"key\":\"924942fc523aefb5cd38a395654d3ca9\"}')\n",
        "\n",
        "!chmod 600 /root/.kaggle/kaggle.json"
      ]
    },
    {
      "cell_type": "code",
      "execution_count": null,
      "metadata": {
        "id": "4Cp-716IMZRd",
        "colab": {
          "base_uri": "https://localhost:8080/"
        },
        "outputId": "e952d295-c0e3-4d04-bccd-23631c44ebff"
      },
      "outputs": [
        {
          "output_type": "stream",
          "name": "stdout",
          "text": [
            "Drive already mounted at /content/gdrive; to attempt to forcibly remount, call drive.mount(\"/content/gdrive\", force_remount=True).\n"
          ]
        }
      ],
      "source": [
        "from google.colab import drive\n",
        "drive.mount('/content/gdrive')"
      ]
    },
    {
      "cell_type": "code",
      "execution_count": null,
      "metadata": {
        "id": "dSjBwfXeoq4B",
        "colab": {
          "base_uri": "https://localhost:8080/"
        },
        "outputId": "81546c9c-2c91-4bc0-f591-e23212722771"
      },
      "outputs": [
        {
          "output_type": "stream",
          "name": "stdout",
          "text": [
            "Downloading 11-785-s23-hw3p2.zip to /content\n",
            "100% 15.9G/15.9G [02:19<00:00, 139MB/s]\n",
            "100% 15.9G/15.9G [02:19<00:00, 123MB/s]\n"
          ]
        }
      ],
      "source": [
        "!kaggle competitions download -c 11-785-s23-hw3p2\n",
        "!mkdir '/content/data'\n",
        "'''\n",
        "This will take a couple minutes, but you should see at least the following:\n",
        "11-785-f22-hw3p2.zip  ctcdecode  hw3p2\n",
        "'''\n",
        "!unzip -qo 11-785-s23-hw3p2.zip -d '/content/data'\n",
        "# !ls"
      ]
    },
    {
      "cell_type": "markdown",
      "metadata": {
        "id": "R9v5ewZDMpYA"
      },
      "source": [
        "# Google Drive"
      ]
    },
    {
      "cell_type": "markdown",
      "metadata": {
        "id": "2ORNHnSFroP0"
      },
      "source": [
        "# Dataset and Dataloader"
      ]
    },
    {
      "cell_type": "code",
      "execution_count": 4,
      "metadata": {
        "id": "k0v7wHRWrqH6"
      },
      "outputs": [],
      "source": [
        "# ARPABET PHONEME MAPPING\n",
        "# DO NOT CHANGE\n",
        "# This overwrites the phonetics.py file.\n",
        "\n",
        "CMUdict_ARPAbet = {\n",
        "    \"\" : \" \",\n",
        "    \"[SIL]\": \"-\", \"NG\": \"G\", \"F\" : \"f\", \"M\" : \"m\", \"AE\": \"@\", \n",
        "    \"R\"    : \"r\", \"UW\": \"u\", \"N\" : \"n\", \"IY\": \"i\", \"AW\": \"W\", \n",
        "    \"V\"    : \"v\", \"UH\": \"U\", \"OW\": \"o\", \"AA\": \"a\", \"ER\": \"R\", \n",
        "    \"HH\"   : \"h\", \"Z\" : \"z\", \"K\" : \"k\", \"CH\": \"C\", \"W\" : \"w\", \n",
        "    \"EY\"   : \"e\", \"ZH\": \"Z\", \"T\" : \"t\", \"EH\": \"E\", \"Y\" : \"y\", \n",
        "    \"AH\"   : \"A\", \"B\" : \"b\", \"P\" : \"p\", \"TH\": \"T\", \"DH\": \"D\", \n",
        "    \"AO\"   : \"c\", \"G\" : \"g\", \"L\" : \"l\", \"JH\": \"j\", \"OY\": \"O\", \n",
        "    \"SH\"   : \"S\", \"D\" : \"d\", \"AY\": \"Y\", \"S\" : \"s\", \"IH\": \"I\",\n",
        "    \"[SOS]\": \"[SOS]\", \"[EOS]\": \"[EOS]\"\n",
        "}\n",
        "\n",
        "CMUdict = list(CMUdict_ARPAbet.keys())\n",
        "ARPAbet = list(CMUdict_ARPAbet.values())\n",
        "\n",
        "\n",
        "PHONEMES = CMUdict[:-2]\n",
        "LABELS = ARPAbet[:-2]"
      ]
    },
    {
      "cell_type": "code",
      "execution_count": 5,
      "metadata": {
        "id": "eN2kcxwXLLBb",
        "colab": {
          "base_uri": "https://localhost:8080/"
        },
        "outputId": "a131aa7a-099f-464e-de77-3ca1c88fa8fc"
      },
      "outputs": [
        {
          "output_type": "stream",
          "name": "stdout",
          "text": [
            "['', '[SIL]', 'NG', 'F', 'M', 'AE', 'R', 'UW', 'N', 'IY', 'AW', 'V', 'UH', 'OW', 'AA', 'ER', 'HH', 'Z', 'K', 'CH', 'W', 'EY', 'ZH', 'T', 'EH', 'Y', 'AH', 'B', 'P', 'TH', 'DH', 'AO', 'G', 'L', 'JH', 'OY', 'SH', 'D', 'AY', 'S', 'IH', '[SOS]', '[EOS]']\n",
            "[' ', '-', 'G', 'f', 'm', '@', 'r', 'u', 'n', 'i', 'W', 'v', 'U', 'o', 'a', 'R', 'h', 'z', 'k', 'C', 'w', 'e', 'Z', 't', 'E', 'y', 'A', 'b', 'p', 'T', 'D', 'c', 'g', 'l', 'j', 'O', 'S', 'd', 'Y', 's', 'I', '[SOS]', '[EOS]']\n"
          ]
        }
      ],
      "source": [
        "# You might want to play around with the mapping as a sanity check here\n",
        "print(CMUdict)\n",
        "print(ARPAbet)"
      ]
    },
    {
      "cell_type": "markdown",
      "metadata": {
        "id": "agmNBKf4JrLV"
      },
      "source": [
        "### Train Data"
      ]
    },
    {
      "cell_type": "code",
      "execution_count": 6,
      "metadata": {
        "id": "afd0_vlbJmr_"
      },
      "outputs": [],
      "source": [
        "class AudioDataset(torch.utils.data.Dataset):\n",
        "\n",
        "    # For this homework, we give you full flexibility to design your data set class.\n",
        "    # Hint: The data from HW1 is very similar to this HW\n",
        "\n",
        "    #TODO\n",
        "    def __init__(self, root, partition, phonemes = PHONEMES): \n",
        "        '''\n",
        "        Initializes the dataset.\n",
        "\n",
        "        INPUTS: What inputs do you need here?\n",
        "        '''\n",
        "\n",
        "        # Load the directory and all files in them\n",
        "\n",
        "        self.mfcc_dir = root+'/'+partition+'/mfcc'\n",
        "        self.transcript_dir = root+'/'+partition+'/transcript'\n",
        "\n",
        "        self.mfcc_files = sorted(os.listdir(self.mfcc_dir))\n",
        "        self.transcript_files = sorted(os.listdir(self.transcript_dir))\n",
        "        self.phonemes = phonemes\n",
        "\n",
        "        #TODO\n",
        "        # WHAT SHOULD THE LENGTH OF THE DATASET BE?\n",
        "        self.length = len(self.mfcc_files)\n",
        "        \n",
        "        #TODO\n",
        "        # HOW CAN WE REPRESENT PHONEMES? CAN WE CREATE A MAPPING FOR THEM?\n",
        "        # HINT: TENSORS CANNOT STORE NON-NUMERICAL VALUES OR STRINGS\n",
        "        num_mfccs = self.length\n",
        "\n",
        "        #TODO\n",
        "        # CREATE AN ARRAY OF ALL FEATUERS AND LABELS\n",
        "        # WHAT NORMALIZATION TECHNIQUE DID YOU USE IN HW1? CAN WE USE IT HERE?\n",
        "        '''\n",
        "        You may decide to do this in __getitem__ if you wish.\n",
        "        However, doing this here will make the __init__ function take the load of\n",
        "        loading the data, and shift it away from training.\n",
        "        '''\n",
        "        # Iterate through mfccs and transcripts\n",
        "        self.transcripts = [None]*num_mfccs\n",
        "        self.mfccs = [None]*num_mfccs\n",
        "        for i in range(num_mfccs):\n",
        "        #   Load a single mfcc\n",
        "            mfcc = np.load(self.mfcc_dir+'/'+self.mfcc_files[i])\n",
        "        #   Do Cepstral Normalization of mfcc (explained in writeup)\n",
        "            sigma = np.std(mfcc,axis=0)\n",
        "            mfcc -= np.sum(mfcc,axis=0)/mfcc.shape[0]\n",
        "            mfcc /= sigma\n",
        "            self.mfccs[i] = torch.tensor(mfcc)\n",
        "\n",
        "        #   Load the corresponding transcript\n",
        "            transcript  = np.load(self.transcript_dir+'/'+self.transcript_files[i]) \n",
        "            transcript = transcript[1:len(transcript)-1] # Remove [SOS] and [EOS] from the transcript\n",
        "\n",
        "            # Map the phonemes to their corresponding list indexes in self.phonemes\n",
        "            # Now, if an element in self.transcript is 0, it means that it is 'SIL' (as per the above example)\n",
        "            transcript = [self.phonemes.index(p) for p in transcript]\n",
        "            self.transcripts[i] = torch.tensor(transcript)\n",
        "\n",
        "    def __len__(self):\n",
        "        \n",
        "        '''\n",
        "        TODO: What do we return here?\n",
        "        '''\n",
        "        return self.length\n",
        "\n",
        "    def __getitem__(self, ind):\n",
        "        '''\n",
        "        TODO: RETURN THE MFCC COEFFICIENTS AND ITS CORRESPONDING LABELS\n",
        "\n",
        "        If you didn't do the loading and processing of the data in __init__,\n",
        "        do that here.\n",
        "\n",
        "        Once done, return a tuple of features and labels.\n",
        "        '''\n",
        "\n",
        "        mfcc = self.mfccs[ind]\n",
        "        transcript = self.transcripts[ind]\n",
        "        return mfcc, transcript\n",
        "\n",
        "\n",
        "    def collate_fn(self,batch):\n",
        "        '''\n",
        "        TODO:\n",
        "        1.  Extract the features and labels from 'batch'\n",
        "        2.  We will additionally need to pad both features and labels,\n",
        "            look at pytorch's docs for pad_sequence\n",
        "        3.  This is a good place to perform transforms, if you so wish. \n",
        "            Performing them on batches will speed the process up a bit.\n",
        "        4.  Return batch of features, labels, lenghts of features, \n",
        "            and lengths of labels.\n",
        "        '''\n",
        "        # batch of input mfcc coefficients\n",
        "        batch_mfcc = [b[0] for b in batch]\n",
        "        # batch of output phonemes\n",
        "        batch_transcript = [b[1] for b in batch]\n",
        "\n",
        "        # HINT: CHECK OUT -> pad_sequence (imported above)\n",
        "        # Also be sure to check the input format (batch_first)\n",
        "        lengths_mfcc = [len(m) for m in batch_mfcc]\n",
        "        batch_mfcc_pad = pad_sequence(batch_mfcc, batch_first=True)\n",
        "\n",
        "        lengths_transcript = [len(t) for t in batch_transcript]\n",
        "        batch_transcript_pad = pad_sequence(batch_transcript, batch_first=True)\n",
        "\n",
        "        # You may apply some transformation, Time and Frequency masking, here in the collate function;\n",
        "        # Food for thought -> Why are we applying the transformation here and not in the __getitem__?\n",
        "        #                  -> Would we apply transformation on the validation set as well?\n",
        "        #                  -> Is the order of axes / dimensions as expected for the transform functions?\n",
        "        \n",
        "        # Return the following values: padded features, padded labels, actual length of features, actual length of the labels\n",
        "        return batch_mfcc_pad, batch_transcript_pad, torch.tensor(lengths_mfcc), torch.tensor(lengths_transcript)\n",
        "\n",
        "       "
      ]
    },
    {
      "cell_type": "markdown",
      "metadata": {
        "id": "hqDrxeHfJw4g"
      },
      "source": [
        "### Test Data"
      ]
    },
    {
      "cell_type": "code",
      "execution_count": 7,
      "metadata": {
        "id": "HrLS1wfVJppA"
      },
      "outputs": [],
      "source": [
        "# Test Dataloader\n",
        "class AudioTestDataset(torch.utils.data.Dataset):\n",
        "\n",
        "    # For this homework, we give you full flexibility to design your data set class.\n",
        "    # Hint: The data from HW1 is very similar to this HW\n",
        "\n",
        "    #TODO\n",
        "    def __init__(self, root, partition): \n",
        "        '''\n",
        "        Initializes the dataset.\n",
        "\n",
        "        INPUTS: What inputs do you need here?\n",
        "        '''\n",
        "\n",
        "        # Load the directory and all files in them\n",
        "\n",
        "        self.mfcc_dir = root+'/'+partition+'/mfcc'\n",
        "\n",
        "        self.mfcc_files = sorted(os.listdir(self.mfcc_dir))\n",
        "\n",
        "        self.length = len(self.mfcc_files)\n",
        "\n",
        "        num_mfccs = self.length\n",
        "\n",
        "        # Iterate through mfccs\n",
        "        self.mfccs = [None]*num_mfccs\n",
        "        for i in range(num_mfccs):\n",
        "        #   Load a single mfcc\n",
        "            mfcc = np.load(self.mfcc_dir+'/'+self.mfcc_files[i])\n",
        "        #   Do Cepstral Normalization of mfcc (explained in writeup)\n",
        "            sigma = np.std(mfcc,axis=0)\n",
        "            mfcc -= np.sum(mfcc,axis=0)/mfcc.shape[0]\n",
        "            mfcc /= sigma\n",
        "            self.mfccs[i] = torch.tensor(mfcc)\n",
        "\n",
        "    def __len__(self):\n",
        "        \n",
        "        '''\n",
        "        TODO: What do we return here?\n",
        "        '''\n",
        "        return self.length\n",
        "\n",
        "    def __getitem__(self, ind):\n",
        "        '''\n",
        "        TODO: RETURN THE MFCC COEFFICIENTS AND ITS CORRESPONDING LABELS\n",
        "\n",
        "        If you didn't do the loading and processing of the data in __init__,\n",
        "        do that here.\n",
        "\n",
        "        Once done, return a tuple of features and labels.\n",
        "        '''\n",
        "\n",
        "        mfcc = self.mfccs[ind]\n",
        "        return mfcc\n",
        "\n",
        "\n",
        "    def collate_fn(self,batch):\n",
        "        # batch of input mfcc coefficients\n",
        "        batch_mfcc = batch\n",
        "        lengths_mfcc = [len(m) for m in batch_mfcc]\n",
        "        batch_mfcc_pad = pad_sequence(batch_mfcc, batch_first=True)\n",
        "        return batch_mfcc_pad, torch.tensor(lengths_mfcc)"
      ]
    },
    {
      "cell_type": "markdown",
      "metadata": {
        "id": "Pt-veYcdL6Fe"
      },
      "source": [
        "### Data - Hyperparameters"
      ]
    },
    {
      "cell_type": "code",
      "execution_count": 95,
      "metadata": {
        "id": "4icymeX1ImUN"
      },
      "outputs": [],
      "source": [
        "BATCH_SIZE = 64 # Increase if your device can handle it\n",
        "\n",
        "transforms = [] # set of tranformations\n",
        "# You may pass this as a parameter to the dataset class above\n",
        "# This will help modularize your implementation\n",
        "config = {\n",
        "    'batch_size': 64,\n",
        "    'dropout': 0.15,\n",
        "    'embedding_size': 256,\n",
        "    'hidden_size': 256,\n",
        "    'tmask_length': 60,\n",
        "    'fmask': 3,\n",
        "    \"beam_width\" : 2,\n",
        "    \"lr\" : 1e-3,\n",
        "    \"epochs\" : 50,\n",
        "    'scheduler': 'reduceOnPlateau',\n",
        "    'pct_start': 0.1\n",
        "}\n",
        "root = 'data/11-785-s23-hw3p2' "
      ]
    },
    {
      "cell_type": "markdown",
      "metadata": {
        "id": "NmuPk9J6L8dz"
      },
      "source": [
        "### Data loaders"
      ]
    },
    {
      "cell_type": "code",
      "execution_count": 9,
      "metadata": {
        "id": "3_kG0gU2x4hH",
        "colab": {
          "base_uri": "https://localhost:8080/"
        },
        "outputId": "fe62c521-f3a9-4e6f-e08c-1ee87420d843"
      },
      "outputs": [
        {
          "output_type": "execute_result",
          "data": {
            "text/plain": [
              "0"
            ]
          },
          "metadata": {},
          "execution_count": 9
        }
      ],
      "source": [
        "# get me RAMMM!!!! \n",
        "import gc \n",
        "gc.collect()"
      ]
    },
    {
      "cell_type": "code",
      "source": [
        "# Create objects for the dataset class\n",
        "train_100 = AudioDataset(root,'train-clean-100') #TODO\n",
        "train_360 = AudioDataset(root,'train-clean-360') #TODO\n",
        "train_data = torch.utils.data.ConcatDataset([train_100, train_360])"
      ],
      "metadata": {
        "id": "rEenWOKYWJJH"
      },
      "execution_count": 10,
      "outputs": []
    },
    {
      "cell_type": "code",
      "source": [
        "train100 = AudioDataset(root,'train-clean-100')"
      ],
      "metadata": {
        "id": "f76OJ9g-wWd6"
      },
      "execution_count": 187,
      "outputs": []
    },
    {
      "cell_type": "code",
      "source": [
        "train_loader_100 = torch.utils.data.DataLoader(\n",
        "    dataset     = train100, \n",
        "    num_workers = 4,\n",
        "    batch_size  = config['batch_size'], \n",
        "    pin_memory  = True,\n",
        "    shuffle     = True,\n",
        "    collate_fn = train100.collate_fn\n",
        ")"
      ],
      "metadata": {
        "id": "w1u9nWX_wI09"
      },
      "execution_count": 190,
      "outputs": []
    },
    {
      "cell_type": "code",
      "source": [
        "for data in train_loader_100:\n",
        "    x, y, lx, ly = data\n",
        "    print(x.shape, y.shape, lx.shape, ly.shape)\n",
        "    break "
      ],
      "metadata": {
        "id": "NNHbGWJ5wPIB"
      },
      "execution_count": null,
      "outputs": []
    },
    {
      "cell_type": "code",
      "source": [
        "val_data = AudioDataset(root,'dev-clean') #TODO"
      ],
      "metadata": {
        "id": "Mr761veXWJya"
      },
      "execution_count": 11,
      "outputs": []
    },
    {
      "cell_type": "code",
      "source": [
        "test_data = AudioTestDataset(root,'test-clean') #TODO"
      ],
      "metadata": {
        "id": "MgJiGv8RWKEC"
      },
      "execution_count": 12,
      "outputs": []
    },
    {
      "cell_type": "code",
      "execution_count": 14,
      "metadata": {
        "id": "4mzoYfTKu14s"
      },
      "outputs": [],
      "source": [
        "# Do NOT forget to pass in the collate function as parameter while creating the dataloader\n",
        "train_loader = torch.utils.data.DataLoader(\n",
        "    dataset     = train_data, \n",
        "    num_workers = 4,\n",
        "    batch_size  = config['batch_size'], \n",
        "    pin_memory  = True,\n",
        "    shuffle     = True,\n",
        "    collate_fn = train_100.collate_fn\n",
        ")\n",
        "val_loader = torch.utils.data.DataLoader(\n",
        "    dataset     = val_data, \n",
        "    num_workers = 2,\n",
        "    batch_size  = config['batch_size'],\n",
        "    pin_memory  = True,\n",
        "    shuffle     = False,\n",
        "    collate_fn = val_data.collate_fn\n",
        ")\n",
        "\n",
        "\n",
        "# print(\"Batch size: \", config['batch_size'])\n",
        "# print(\"Train dataset samples = {}, batches = {}\".format(train_data.__len__(), len(train_loader)))\n",
        "# print(\"Val dataset samples = {}, batches = {}\".format(val_data.__len__(), len(val_loader)))\n",
        "# print(\"Test dataset samples = {}, batches = {}\".format(test_data.__len__(), len(test_loader)))"
      ]
    },
    {
      "cell_type": "code",
      "source": [
        "test_loader = torch.utils.data.DataLoader(\n",
        "    dataset     = test_data, \n",
        "    num_workers = 2, \n",
        "    batch_size  = config['batch_size'], \n",
        "    pin_memory  = True, \n",
        "    shuffle     = False,\n",
        "    collate_fn = test_data.collate_fn\n",
        ")"
      ],
      "metadata": {
        "id": "VmDWnGZMjBi6"
      },
      "execution_count": 15,
      "outputs": []
    },
    {
      "cell_type": "code",
      "execution_count": 142,
      "metadata": {
        "id": "cXMtwyviKaxK",
        "colab": {
          "base_uri": "https://localhost:8080/"
        },
        "outputId": "62ecceb0-2b9c-4bb8-d182-f97fe02e7b30"
      },
      "outputs": [
        {
          "output_type": "stream",
          "name": "stdout",
          "text": [
            "torch.Size([64, 1702, 27]) torch.Size([64, 191]) torch.Size([64]) torch.Size([64])\n"
          ]
        }
      ],
      "source": [
        "# sanity check\n",
        "for data in train_loader:\n",
        "    x, y, lx, ly = data\n",
        "    print(x.shape, y.shape, lx.shape, ly.shape)\n",
        "    break "
      ]
    },
    {
      "cell_type": "code",
      "source": [
        "for data in test_loader:\n",
        "    x, lx = data\n",
        "    print(x.shape, lx.shape)\n",
        "    break "
      ],
      "metadata": {
        "id": "BQBLXVe6pQYj"
      },
      "execution_count": null,
      "outputs": []
    },
    {
      "cell_type": "markdown",
      "metadata": {
        "id": "wSexxhdfMUzx"
      },
      "source": [
        "# NETWORK"
      ]
    },
    {
      "cell_type": "markdown",
      "metadata": {
        "id": "HLad4pChcuvX"
      },
      "source": [
        "## Basic\n",
        "\n",
        "This is a basic block for understanding, you can skip this and move to pBLSTM one"
      ]
    },
    {
      "cell_type": "code",
      "execution_count": 21,
      "metadata": {
        "id": "qd4BEX_yMUzz"
      },
      "outputs": [],
      "source": [
        "# Utils for network\n",
        "torch.cuda.empty_cache()\n",
        "\n",
        "class PermuteBlock(torch.nn.Module):\n",
        "    def forward(self, x):\n",
        "        return x.transpose(1, 2)"
      ]
    },
    {
      "cell_type": "code",
      "execution_count": 112,
      "metadata": {
        "id": "EQhvHr71GJfq"
      },
      "outputs": [],
      "source": [
        "torch.cuda.empty_cache()\n",
        "\n",
        "class Network(nn.Module):\n",
        "\n",
        "    def __init__(self, input_size, hidden_size, output_size=len(PHONEMES)):\n",
        "\n",
        "        super(Network, self).__init__()\n",
        "\n",
        "        # Adding some sort of embedding layer or feature extractor might help performance.\n",
        "        self.permute = PermuteBlock()\n",
        "        self.embedding = nn.Conv1d(in_channels=27, out_channels=input_size, kernel_size=3, padding=1)\n",
        "        \n",
        "        # TODO : look up the documentation. You might need to pass some additional parameters.\n",
        "        self.lstm = nn.LSTM(input_size = input_size, hidden_size=config['hidden_size'], num_layers=1, batch_first=True) \n",
        "       \n",
        "        self.classification = nn.Sequential(\n",
        "            #TODO: Linear layer with in_features from the lstm module above and out_features = OUT_SIZE\n",
        "            torch.nn.Linear(hidden_size,output_size)\n",
        "        )\n",
        "        \n",
        "        self.logSoftmax = torch.nn.LogSoftmax(dim=2)\n",
        "\n",
        "    def forward(self, x, lx):\n",
        "        #TODO\n",
        "        # The forward function takes 2 parameter inputs here. Why?\n",
        "        # Refer to the handout for hints\n",
        "        E = self.permute(self.embedding(self.permute(x)))\n",
        "        out, (h_n, c_n) = self.lstm(E)\n",
        "        out = self.classification(out)\n",
        "        out = self.logSoftmax(out)\n",
        "        return out, lx"
      ]
    },
    {
      "cell_type": "markdown",
      "metadata": {
        "id": "PB6eh3gnMUzy"
      },
      "source": [
        "## Pyramid Bi-LSTM (pBLSTM)"
      ]
    },
    {
      "cell_type": "code",
      "execution_count": 79,
      "metadata": {
        "id": "OmdyXI6KMUzz"
      },
      "outputs": [],
      "source": [
        "class pBLSTM(torch.nn.Module):\n",
        "\n",
        "    '''\n",
        "    Pyramidal BiLSTM\n",
        "    Read the write up/paper and understand the concepts and then write your implementation here.\n",
        "\n",
        "    At each step,\n",
        "    1. Pad your input if it is packed (Unpack it)\n",
        "    2. Reduce the input length dimension by concatenating feature dimension\n",
        "        (Tip: Write down the shapes and understand)\n",
        "        (i) How should  you deal with odd/even length input? \n",
        "        (ii) How should you deal with input length array (x_lens) after truncating the input?\n",
        "    3. Pack your input\n",
        "    4. Pass it into LSTM layer\n",
        "\n",
        "    To make our implementation modular, we pass 1 layer at a time.\n",
        "    '''\n",
        "    \n",
        "    def __init__(self, input_size, hidden_size, dropout):\n",
        "        super(pBLSTM, self).__init__()\n",
        "        self.blstm = nn.LSTM(input_size, hidden_size, bidirectional=True, dropout=dropout, batch_first=True)\n",
        "        self.input_size = input_size\n",
        "\n",
        "    def forward(self, x_packed): # x_packed is a PackedSequence\n",
        "\n",
        "        # TODO: Pad Packed Sequence\n",
        "        x_padded, x_padded_len = pad_packed_sequence(x_packed, batch_first=True)\n",
        "        # Call self.trunc_reshape() which downsamples the time steps of x and increases the feature dimensions as mentioned above\n",
        "        # self.trunc_reshape will return 2 outputs. What are they? Think about what quantites are changing.\n",
        "        x_pad_trunc, x_pad_trunc_len = self.trunc_reshape(x_padded, x_padded_len)\n",
        "        # TODO: Pack Padded Sequence. What output(s) would you get?\n",
        "        x_packed = pack_padded_sequence(x_pad_trunc, x_pad_trunc_len, batch_first=True, enforce_sorted=False)\n",
        "        # TODO: Pass the sequence through bLSTM\n",
        "        # What do you return?\n",
        "        # print(x_packed[0].shape)\n",
        "        output, (h_n, c_n) = self.blstm(x_packed)\n",
        "        # print('output shapes: ')\n",
        "        # print(output[0].shape)\n",
        "        return output\n",
        "\n",
        "    def trunc_reshape(self, x, x_lens): \n",
        "        # TODO: If you have odd number of timesteps, how can you handle it? (Hint: You can exclude them)\n",
        "        # TODO: Reshape x. When reshaping x, you have to reduce number of timesteps by a downsampling factor while increasing number of features by the same factor\n",
        "        # TODO: Reduce lengths by the same downsampling factor\n",
        "        B, T, F = x.shape\n",
        "        x = x[:,:(T//2)*2, :]\n",
        "        x = x.reshape(B,T//2,F*2)\n",
        "        x_lens = torch.clamp(x_lens, max=x.shape[1])\n",
        "        return x, x_lens"
      ]
    },
    {
      "cell_type": "markdown",
      "metadata": {
        "id": "g3ZQ75OcMUz0"
      },
      "source": [
        "# Encoder"
      ]
    },
    {
      "cell_type": "code",
      "execution_count": 80,
      "metadata": {
        "id": "GEzw5_xmMUz0"
      },
      "outputs": [],
      "source": [
        "class Encoder(torch.nn.Module):\n",
        "    '''\n",
        "    The Encoder takes utterances as inputs and returns latent feature representations\n",
        "    '''\n",
        "    def __init__(self, input_size, encoder_hidden_size):\n",
        "        super(Encoder, self).__init__()\n",
        "        self.permute = PermuteBlock()\n",
        "        self.embedding = nn.Conv1d(in_channels=27, out_channels=input_size, kernel_size=3, padding=1)\n",
        "        #TODO: You can use CNNs as Embedding layer to extract features. Keep in mind the Input dimensions and expected dimension of Pytorch CNN.\n",
        "        self.encoder_size = encoder_hidden_size\n",
        "        self.pBLSTMs = torch.nn.Sequential( # How many pBLSTMs are required?\n",
        "            # TODO: Fill this up with pBLSTMs - What should the input_size be? \n",
        "            # Hint: You are downsampling timesteps by a factor of 2, upsampling features by a factor of 2 and the LSTM is bidirectional)\n",
        "            # Optional: Dropout/Locked Dropout after each pBLSTM (Not needed for early submission)\n",
        "            # https://github.com/salesforce/awd-lstm-lm/blob/dfd3cb0235d2caf2847a4d53e1cbd495b781b5d2/locked_dropout.py#L5\n",
        "            # ...\n",
        "            # ...\n",
        "            pBLSTM(input_size*2, encoder_hidden_size, dropout=config['dropout']),\n",
        "            pBLSTM(encoder_hidden_size*4, encoder_hidden_size, dropout=config['dropout']),\n",
        "            # pBLSTM(encoder_hidden_size*4, encoder_hidden_size, dropout=config['dropout'])\n",
        "        )\n",
        "\n",
        "    def forward(self, x, x_lens):\n",
        "        # Where are x and x_lens coming from? The dataloader\n",
        "        # TODO: Call the embedding layer\n",
        "        # TODO: Pack Padded Sequence\n",
        "        # TODO: Pass Sequence through the pyramidal Bi-LSTM layer\n",
        "        # TODO: Pad Packed Sequence\n",
        "        E = self.permute(self.embedding(self.permute(x)))\n",
        "        E_packed = pack_padded_sequence(E, x_lens, batch_first=True, enforce_sorted=False)\n",
        "        # print('encoder size is')\n",
        "        # print(self.encoder_size)\n",
        "        pblstms_out = self.pBLSTMs(E_packed.to(device))\n",
        "        encoder_outputs, encoder_lens = pad_packed_sequence(pblstms_out, batch_first=True)\n",
        "        # Remember the number of output(s) each function returns\n",
        "        return encoder_outputs, encoder_lens"
      ]
    },
    {
      "cell_type": "markdown",
      "metadata": {
        "id": "kg82HXa3MUz1"
      },
      "source": [
        "# Decoder"
      ]
    },
    {
      "cell_type": "code",
      "execution_count": 81,
      "metadata": {
        "id": "PQIRxdNTMUz1"
      },
      "outputs": [],
      "source": [
        "class Decoder(torch.nn.Module):\n",
        "\n",
        "    def __init__(self, embed_size, output_size= 41):\n",
        "        super().__init__()\n",
        "\n",
        "        self.mlp = torch.nn.Sequential(\n",
        "            PermuteBlock(), torch.nn.BatchNorm1d(embed_size*2), PermuteBlock(),\n",
        "            torch.nn.Linear(embed_size*2, 2048),\n",
        "            PermuteBlock(), torch.nn.BatchNorm1d(2048), PermuteBlock(),\n",
        "            torch.nn.Dropout(config['dropout']),\n",
        "            torch.nn.GELU(),\n",
        "            torch.nn.Linear(2048,4096),\n",
        "            PermuteBlock(), torch.nn.BatchNorm1d(4096), PermuteBlock(),\n",
        "            torch.nn.Dropout(config['dropout']),\n",
        "            torch.nn.GELU(),\n",
        "            torch.nn.Linear(4096,output_size)\n",
        "            #TODO define your MLP arch. Refer HW1P2\n",
        "            #Use Permute Block before and after BatchNorm1d() to match the size\n",
        "        )\n",
        "        \n",
        "        self.softmax = torch.nn.LogSoftmax(dim=2)\n",
        "\n",
        "    def forward(self, encoder_out):\n",
        "        #TODO call your MLP\n",
        "        #TODO Think what should be the final output of the decoder for the classification \n",
        "        out = self.mlp(encoder_out)\n",
        "        out = self.softmax(out)\n",
        "        return out"
      ]
    },
    {
      "cell_type": "code",
      "execution_count": 82,
      "metadata": {
        "id": "qmHf6pFiMUz1"
      },
      "outputs": [],
      "source": [
        "class ASRModel(torch.nn.Module):\n",
        "\n",
        "    def __init__(self, input_size, embed_size= 192, output_size= len(PHONEMES)):\n",
        "        super().__init__()\n",
        "\n",
        "        self.augmentations  = torch.nn.Sequential(\n",
        "            #TODO Add Time Masking/ Frequency Masking\n",
        "            #Hint: See how to use PermuteBlock() function defined above\n",
        "            PermuteBlock(),\n",
        "            tat.TimeMasking(time_mask_param=config['tmask_length']),\n",
        "            tat.FrequencyMasking(freq_mask_param=config['fmask']),\n",
        "            PermuteBlock()\n",
        "        )\n",
        "        self.encoder        =Encoder(input_size, config['hidden_size'])\n",
        "        self.decoder        =Decoder(embed_size)\n",
        "    \n",
        "    def forward(self, x, lengths_x):\n",
        "        if self.training:\n",
        "            x = self.augmentations(x)\n",
        "        encoder_out, encoder_lens   = self.encoder(x, lengths_x)\n",
        "        decoder_out                 = self.decoder(encoder_out)\n",
        "        return decoder_out, encoder_lens"
      ]
    },
    {
      "cell_type": "markdown",
      "metadata": {
        "id": "tUThsowyQdN7"
      },
      "source": [
        "## INIT\n",
        "(If trying out the basic Network)"
      ]
    },
    {
      "cell_type": "markdown",
      "metadata": {
        "id": "EV7DMPDoMUz2"
      },
      "source": [
        "## INIT ASR"
      ]
    },
    {
      "cell_type": "code",
      "execution_count": 83,
      "metadata": {
        "id": "oaaDsnnLMUz2"
      },
      "outputs": [],
      "source": [
        "torch.cuda.empty_cache()\n",
        "model = ASRModel(\n",
        "    input_size  = config['embedding_size'],\n",
        "    embed_size  = config['hidden_size'],\n",
        "    output_size = len(PHONEMES)\n",
        ").to(device)"
      ]
    },
    {
      "cell_type": "code",
      "source": [
        "for data in train_loader:\n",
        "    x, y, lx, ly = data\n",
        "    print(x.shape, y.shape, lx.shape, ly.shape)\n",
        "    break \n",
        "summary(model, x.to(device), lx)"
      ],
      "metadata": {
        "colab": {
          "base_uri": "https://localhost:8080/",
          "height": 1000
        },
        "id": "3F7KIJ2F1U0g",
        "outputId": "8c519ded-994a-45df-9783-44d425ca3ee1"
      },
      "execution_count": 84,
      "outputs": [
        {
          "output_type": "stream",
          "name": "stdout",
          "text": [
            "torch.Size([64, 1628, 27]) torch.Size([64, 195]) torch.Size([64]) torch.Size([64])\n",
            "========================================================================================\n",
            "                                    Kernel Shape     Output Shape     Params  \\\n",
            "Layer                                                                          \n",
            "0_augmentations.PermuteBlock_0                 -   [64, 27, 1628]          -   \n",
            "1_augmentations.TimeMasking_1                  -   [64, 27, 1628]          -   \n",
            "2_augmentations.FrequencyMasking_2             -   [64, 27, 1628]          -   \n",
            "3_augmentations.PermuteBlock_3                 -   [64, 1628, 27]          -   \n",
            "4_encoder.PermuteBlock_permute                 -   [64, 27, 1628]          -   \n",
            "5_encoder.Conv1d_embedding          [27, 256, 3]  [64, 256, 1628]    20.992k   \n",
            "6_encoder.PermuteBlock_permute                 -  [64, 1628, 256]          -   \n",
            "7_encoder.pBLSTMs.0.LSTM_blstm                 -     [49711, 512]   1.57696M   \n",
            "8_encoder.pBLSTMs.1.LSTM_blstm                 -     [25863, 512]  2.625536M   \n",
            "9_decoder.mlp.PermuteBlock_0                   -   [64, 512, 407]          -   \n",
            "10_decoder.mlp.BatchNorm1d_1               [512]   [64, 512, 407]     1.024k   \n",
            "11_decoder.mlp.PermuteBlock_2                  -   [64, 407, 512]          -   \n",
            "12_decoder.mlp.Linear_3              [512, 2048]  [64, 407, 2048]  1.050624M   \n",
            "13_decoder.mlp.PermuteBlock_4                  -  [64, 2048, 407]          -   \n",
            "14_decoder.mlp.BatchNorm1d_5              [2048]  [64, 2048, 407]     4.096k   \n",
            "15_decoder.mlp.PermuteBlock_6                  -  [64, 407, 2048]          -   \n",
            "16_decoder.mlp.Dropout_7                       -  [64, 407, 2048]          -   \n",
            "17_decoder.mlp.GELU_8                          -  [64, 407, 2048]          -   \n",
            "18_decoder.mlp.Linear_9             [2048, 4096]  [64, 407, 4096]  8.392704M   \n",
            "19_decoder.mlp.PermuteBlock_10                 -  [64, 4096, 407]          -   \n",
            "20_decoder.mlp.BatchNorm1d_11             [4096]  [64, 4096, 407]     8.192k   \n",
            "21_decoder.mlp.PermuteBlock_12                 -  [64, 407, 4096]          -   \n",
            "22_decoder.mlp.Dropout_13                      -  [64, 407, 4096]          -   \n",
            "23_decoder.mlp.GELU_14                         -  [64, 407, 4096]          -   \n",
            "24_decoder.mlp.Linear_15              [4096, 41]    [64, 407, 41]   167.977k   \n",
            "25_decoder.LogSoftmax_softmax                  -    [64, 407, 41]          -   \n",
            "\n",
            "                                     Mult-Adds  \n",
            "Layer                                           \n",
            "0_augmentations.PermuteBlock_0               -  \n",
            "1_augmentations.TimeMasking_1                -  \n",
            "2_augmentations.FrequencyMasking_2           -  \n",
            "3_augmentations.PermuteBlock_3               -  \n",
            "4_encoder.PermuteBlock_permute               -  \n",
            "5_encoder.Conv1d_embedding          33.758208M  \n",
            "6_encoder.PermuteBlock_permute               -  \n",
            "7_encoder.pBLSTMs.0.LSTM_blstm       1.572864M  \n",
            "8_encoder.pBLSTMs.1.LSTM_blstm        2.62144M  \n",
            "9_decoder.mlp.PermuteBlock_0                 -  \n",
            "10_decoder.mlp.BatchNorm1d_1             512.0  \n",
            "11_decoder.mlp.PermuteBlock_2                -  \n",
            "12_decoder.mlp.Linear_3              1.048576M  \n",
            "13_decoder.mlp.PermuteBlock_4                -  \n",
            "14_decoder.mlp.BatchNorm1d_5            2.048k  \n",
            "15_decoder.mlp.PermuteBlock_6                -  \n",
            "16_decoder.mlp.Dropout_7                     -  \n",
            "17_decoder.mlp.GELU_8                        -  \n",
            "18_decoder.mlp.Linear_9              8.388608M  \n",
            "19_decoder.mlp.PermuteBlock_10               -  \n",
            "20_decoder.mlp.BatchNorm1d_11           4.096k  \n",
            "21_decoder.mlp.PermuteBlock_12               -  \n",
            "22_decoder.mlp.Dropout_13                    -  \n",
            "23_decoder.mlp.GELU_14                       -  \n",
            "24_decoder.mlp.Linear_15              167.936k  \n",
            "25_decoder.LogSoftmax_softmax                -  \n",
            "----------------------------------------------------------------------------------------\n",
            "                          Totals\n",
            "Total params          13.848105M\n",
            "Trainable params      13.848105M\n",
            "Non-trainable params         0.0\n",
            "Mult-Adds             47.564288M\n",
            "========================================================================================\n"
          ]
        },
        {
          "output_type": "execute_result",
          "data": {
            "text/plain": [
              "                                    Kernel Shape     Output Shape     Params  \\\n",
              "Layer                                                                          \n",
              "0_augmentations.PermuteBlock_0                 -   [64, 27, 1628]        NaN   \n",
              "1_augmentations.TimeMasking_1                  -   [64, 27, 1628]        NaN   \n",
              "2_augmentations.FrequencyMasking_2             -   [64, 27, 1628]        NaN   \n",
              "3_augmentations.PermuteBlock_3                 -   [64, 1628, 27]        NaN   \n",
              "4_encoder.PermuteBlock_permute                 -   [64, 27, 1628]        NaN   \n",
              "5_encoder.Conv1d_embedding          [27, 256, 3]  [64, 256, 1628]    20992.0   \n",
              "6_encoder.PermuteBlock_permute                 -  [64, 1628, 256]        NaN   \n",
              "7_encoder.pBLSTMs.0.LSTM_blstm                 -     [49711, 512]  1576960.0   \n",
              "8_encoder.pBLSTMs.1.LSTM_blstm                 -     [25863, 512]  2625536.0   \n",
              "9_decoder.mlp.PermuteBlock_0                   -   [64, 512, 407]        NaN   \n",
              "10_decoder.mlp.BatchNorm1d_1               [512]   [64, 512, 407]     1024.0   \n",
              "11_decoder.mlp.PermuteBlock_2                  -   [64, 407, 512]        NaN   \n",
              "12_decoder.mlp.Linear_3              [512, 2048]  [64, 407, 2048]  1050624.0   \n",
              "13_decoder.mlp.PermuteBlock_4                  -  [64, 2048, 407]        NaN   \n",
              "14_decoder.mlp.BatchNorm1d_5              [2048]  [64, 2048, 407]     4096.0   \n",
              "15_decoder.mlp.PermuteBlock_6                  -  [64, 407, 2048]        NaN   \n",
              "16_decoder.mlp.Dropout_7                       -  [64, 407, 2048]        NaN   \n",
              "17_decoder.mlp.GELU_8                          -  [64, 407, 2048]        NaN   \n",
              "18_decoder.mlp.Linear_9             [2048, 4096]  [64, 407, 4096]  8392704.0   \n",
              "19_decoder.mlp.PermuteBlock_10                 -  [64, 4096, 407]        NaN   \n",
              "20_decoder.mlp.BatchNorm1d_11             [4096]  [64, 4096, 407]     8192.0   \n",
              "21_decoder.mlp.PermuteBlock_12                 -  [64, 407, 4096]        NaN   \n",
              "22_decoder.mlp.Dropout_13                      -  [64, 407, 4096]        NaN   \n",
              "23_decoder.mlp.GELU_14                         -  [64, 407, 4096]        NaN   \n",
              "24_decoder.mlp.Linear_15              [4096, 41]    [64, 407, 41]   167977.0   \n",
              "25_decoder.LogSoftmax_softmax                  -    [64, 407, 41]        NaN   \n",
              "\n",
              "                                     Mult-Adds  \n",
              "Layer                                           \n",
              "0_augmentations.PermuteBlock_0             NaN  \n",
              "1_augmentations.TimeMasking_1              NaN  \n",
              "2_augmentations.FrequencyMasking_2         NaN  \n",
              "3_augmentations.PermuteBlock_3             NaN  \n",
              "4_encoder.PermuteBlock_permute             NaN  \n",
              "5_encoder.Conv1d_embedding          33758208.0  \n",
              "6_encoder.PermuteBlock_permute             NaN  \n",
              "7_encoder.pBLSTMs.0.LSTM_blstm       1572864.0  \n",
              "8_encoder.pBLSTMs.1.LSTM_blstm       2621440.0  \n",
              "9_decoder.mlp.PermuteBlock_0               NaN  \n",
              "10_decoder.mlp.BatchNorm1d_1             512.0  \n",
              "11_decoder.mlp.PermuteBlock_2              NaN  \n",
              "12_decoder.mlp.Linear_3              1048576.0  \n",
              "13_decoder.mlp.PermuteBlock_4              NaN  \n",
              "14_decoder.mlp.BatchNorm1d_5            2048.0  \n",
              "15_decoder.mlp.PermuteBlock_6              NaN  \n",
              "16_decoder.mlp.Dropout_7                   NaN  \n",
              "17_decoder.mlp.GELU_8                      NaN  \n",
              "18_decoder.mlp.Linear_9              8388608.0  \n",
              "19_decoder.mlp.PermuteBlock_10             NaN  \n",
              "20_decoder.mlp.BatchNorm1d_11           4096.0  \n",
              "21_decoder.mlp.PermuteBlock_12             NaN  \n",
              "22_decoder.mlp.Dropout_13                  NaN  \n",
              "23_decoder.mlp.GELU_14                     NaN  \n",
              "24_decoder.mlp.Linear_15              167936.0  \n",
              "25_decoder.LogSoftmax_softmax              NaN  "
            ],
            "text/html": [
              "\n",
              "  <div id=\"df-8a3b8438-a0b8-4e79-ac29-b02dd038d4bc\">\n",
              "    <div class=\"colab-df-container\">\n",
              "      <div>\n",
              "<style scoped>\n",
              "    .dataframe tbody tr th:only-of-type {\n",
              "        vertical-align: middle;\n",
              "    }\n",
              "\n",
              "    .dataframe tbody tr th {\n",
              "        vertical-align: top;\n",
              "    }\n",
              "\n",
              "    .dataframe thead th {\n",
              "        text-align: right;\n",
              "    }\n",
              "</style>\n",
              "<table border=\"1\" class=\"dataframe\">\n",
              "  <thead>\n",
              "    <tr style=\"text-align: right;\">\n",
              "      <th></th>\n",
              "      <th>Kernel Shape</th>\n",
              "      <th>Output Shape</th>\n",
              "      <th>Params</th>\n",
              "      <th>Mult-Adds</th>\n",
              "    </tr>\n",
              "    <tr>\n",
              "      <th>Layer</th>\n",
              "      <th></th>\n",
              "      <th></th>\n",
              "      <th></th>\n",
              "      <th></th>\n",
              "    </tr>\n",
              "  </thead>\n",
              "  <tbody>\n",
              "    <tr>\n",
              "      <th>0_augmentations.PermuteBlock_0</th>\n",
              "      <td>-</td>\n",
              "      <td>[64, 27, 1628]</td>\n",
              "      <td>NaN</td>\n",
              "      <td>NaN</td>\n",
              "    </tr>\n",
              "    <tr>\n",
              "      <th>1_augmentations.TimeMasking_1</th>\n",
              "      <td>-</td>\n",
              "      <td>[64, 27, 1628]</td>\n",
              "      <td>NaN</td>\n",
              "      <td>NaN</td>\n",
              "    </tr>\n",
              "    <tr>\n",
              "      <th>2_augmentations.FrequencyMasking_2</th>\n",
              "      <td>-</td>\n",
              "      <td>[64, 27, 1628]</td>\n",
              "      <td>NaN</td>\n",
              "      <td>NaN</td>\n",
              "    </tr>\n",
              "    <tr>\n",
              "      <th>3_augmentations.PermuteBlock_3</th>\n",
              "      <td>-</td>\n",
              "      <td>[64, 1628, 27]</td>\n",
              "      <td>NaN</td>\n",
              "      <td>NaN</td>\n",
              "    </tr>\n",
              "    <tr>\n",
              "      <th>4_encoder.PermuteBlock_permute</th>\n",
              "      <td>-</td>\n",
              "      <td>[64, 27, 1628]</td>\n",
              "      <td>NaN</td>\n",
              "      <td>NaN</td>\n",
              "    </tr>\n",
              "    <tr>\n",
              "      <th>5_encoder.Conv1d_embedding</th>\n",
              "      <td>[27, 256, 3]</td>\n",
              "      <td>[64, 256, 1628]</td>\n",
              "      <td>20992.0</td>\n",
              "      <td>33758208.0</td>\n",
              "    </tr>\n",
              "    <tr>\n",
              "      <th>6_encoder.PermuteBlock_permute</th>\n",
              "      <td>-</td>\n",
              "      <td>[64, 1628, 256]</td>\n",
              "      <td>NaN</td>\n",
              "      <td>NaN</td>\n",
              "    </tr>\n",
              "    <tr>\n",
              "      <th>7_encoder.pBLSTMs.0.LSTM_blstm</th>\n",
              "      <td>-</td>\n",
              "      <td>[49711, 512]</td>\n",
              "      <td>1576960.0</td>\n",
              "      <td>1572864.0</td>\n",
              "    </tr>\n",
              "    <tr>\n",
              "      <th>8_encoder.pBLSTMs.1.LSTM_blstm</th>\n",
              "      <td>-</td>\n",
              "      <td>[25863, 512]</td>\n",
              "      <td>2625536.0</td>\n",
              "      <td>2621440.0</td>\n",
              "    </tr>\n",
              "    <tr>\n",
              "      <th>9_decoder.mlp.PermuteBlock_0</th>\n",
              "      <td>-</td>\n",
              "      <td>[64, 512, 407]</td>\n",
              "      <td>NaN</td>\n",
              "      <td>NaN</td>\n",
              "    </tr>\n",
              "    <tr>\n",
              "      <th>10_decoder.mlp.BatchNorm1d_1</th>\n",
              "      <td>[512]</td>\n",
              "      <td>[64, 512, 407]</td>\n",
              "      <td>1024.0</td>\n",
              "      <td>512.0</td>\n",
              "    </tr>\n",
              "    <tr>\n",
              "      <th>11_decoder.mlp.PermuteBlock_2</th>\n",
              "      <td>-</td>\n",
              "      <td>[64, 407, 512]</td>\n",
              "      <td>NaN</td>\n",
              "      <td>NaN</td>\n",
              "    </tr>\n",
              "    <tr>\n",
              "      <th>12_decoder.mlp.Linear_3</th>\n",
              "      <td>[512, 2048]</td>\n",
              "      <td>[64, 407, 2048]</td>\n",
              "      <td>1050624.0</td>\n",
              "      <td>1048576.0</td>\n",
              "    </tr>\n",
              "    <tr>\n",
              "      <th>13_decoder.mlp.PermuteBlock_4</th>\n",
              "      <td>-</td>\n",
              "      <td>[64, 2048, 407]</td>\n",
              "      <td>NaN</td>\n",
              "      <td>NaN</td>\n",
              "    </tr>\n",
              "    <tr>\n",
              "      <th>14_decoder.mlp.BatchNorm1d_5</th>\n",
              "      <td>[2048]</td>\n",
              "      <td>[64, 2048, 407]</td>\n",
              "      <td>4096.0</td>\n",
              "      <td>2048.0</td>\n",
              "    </tr>\n",
              "    <tr>\n",
              "      <th>15_decoder.mlp.PermuteBlock_6</th>\n",
              "      <td>-</td>\n",
              "      <td>[64, 407, 2048]</td>\n",
              "      <td>NaN</td>\n",
              "      <td>NaN</td>\n",
              "    </tr>\n",
              "    <tr>\n",
              "      <th>16_decoder.mlp.Dropout_7</th>\n",
              "      <td>-</td>\n",
              "      <td>[64, 407, 2048]</td>\n",
              "      <td>NaN</td>\n",
              "      <td>NaN</td>\n",
              "    </tr>\n",
              "    <tr>\n",
              "      <th>17_decoder.mlp.GELU_8</th>\n",
              "      <td>-</td>\n",
              "      <td>[64, 407, 2048]</td>\n",
              "      <td>NaN</td>\n",
              "      <td>NaN</td>\n",
              "    </tr>\n",
              "    <tr>\n",
              "      <th>18_decoder.mlp.Linear_9</th>\n",
              "      <td>[2048, 4096]</td>\n",
              "      <td>[64, 407, 4096]</td>\n",
              "      <td>8392704.0</td>\n",
              "      <td>8388608.0</td>\n",
              "    </tr>\n",
              "    <tr>\n",
              "      <th>19_decoder.mlp.PermuteBlock_10</th>\n",
              "      <td>-</td>\n",
              "      <td>[64, 4096, 407]</td>\n",
              "      <td>NaN</td>\n",
              "      <td>NaN</td>\n",
              "    </tr>\n",
              "    <tr>\n",
              "      <th>20_decoder.mlp.BatchNorm1d_11</th>\n",
              "      <td>[4096]</td>\n",
              "      <td>[64, 4096, 407]</td>\n",
              "      <td>8192.0</td>\n",
              "      <td>4096.0</td>\n",
              "    </tr>\n",
              "    <tr>\n",
              "      <th>21_decoder.mlp.PermuteBlock_12</th>\n",
              "      <td>-</td>\n",
              "      <td>[64, 407, 4096]</td>\n",
              "      <td>NaN</td>\n",
              "      <td>NaN</td>\n",
              "    </tr>\n",
              "    <tr>\n",
              "      <th>22_decoder.mlp.Dropout_13</th>\n",
              "      <td>-</td>\n",
              "      <td>[64, 407, 4096]</td>\n",
              "      <td>NaN</td>\n",
              "      <td>NaN</td>\n",
              "    </tr>\n",
              "    <tr>\n",
              "      <th>23_decoder.mlp.GELU_14</th>\n",
              "      <td>-</td>\n",
              "      <td>[64, 407, 4096]</td>\n",
              "      <td>NaN</td>\n",
              "      <td>NaN</td>\n",
              "    </tr>\n",
              "    <tr>\n",
              "      <th>24_decoder.mlp.Linear_15</th>\n",
              "      <td>[4096, 41]</td>\n",
              "      <td>[64, 407, 41]</td>\n",
              "      <td>167977.0</td>\n",
              "      <td>167936.0</td>\n",
              "    </tr>\n",
              "    <tr>\n",
              "      <th>25_decoder.LogSoftmax_softmax</th>\n",
              "      <td>-</td>\n",
              "      <td>[64, 407, 41]</td>\n",
              "      <td>NaN</td>\n",
              "      <td>NaN</td>\n",
              "    </tr>\n",
              "  </tbody>\n",
              "</table>\n",
              "</div>\n",
              "      <button class=\"colab-df-convert\" onclick=\"convertToInteractive('df-8a3b8438-a0b8-4e79-ac29-b02dd038d4bc')\"\n",
              "              title=\"Convert this dataframe to an interactive table.\"\n",
              "              style=\"display:none;\">\n",
              "        \n",
              "  <svg xmlns=\"http://www.w3.org/2000/svg\" height=\"24px\"viewBox=\"0 0 24 24\"\n",
              "       width=\"24px\">\n",
              "    <path d=\"M0 0h24v24H0V0z\" fill=\"none\"/>\n",
              "    <path d=\"M18.56 5.44l.94 2.06.94-2.06 2.06-.94-2.06-.94-.94-2.06-.94 2.06-2.06.94zm-11 1L8.5 8.5l.94-2.06 2.06-.94-2.06-.94L8.5 2.5l-.94 2.06-2.06.94zm10 10l.94 2.06.94-2.06 2.06-.94-2.06-.94-.94-2.06-.94 2.06-2.06.94z\"/><path d=\"M17.41 7.96l-1.37-1.37c-.4-.4-.92-.59-1.43-.59-.52 0-1.04.2-1.43.59L10.3 9.45l-7.72 7.72c-.78.78-.78 2.05 0 2.83L4 21.41c.39.39.9.59 1.41.59.51 0 1.02-.2 1.41-.59l7.78-7.78 2.81-2.81c.8-.78.8-2.07 0-2.86zM5.41 20L4 18.59l7.72-7.72 1.47 1.35L5.41 20z\"/>\n",
              "  </svg>\n",
              "      </button>\n",
              "      \n",
              "  <style>\n",
              "    .colab-df-container {\n",
              "      display:flex;\n",
              "      flex-wrap:wrap;\n",
              "      gap: 12px;\n",
              "    }\n",
              "\n",
              "    .colab-df-convert {\n",
              "      background-color: #E8F0FE;\n",
              "      border: none;\n",
              "      border-radius: 50%;\n",
              "      cursor: pointer;\n",
              "      display: none;\n",
              "      fill: #1967D2;\n",
              "      height: 32px;\n",
              "      padding: 0 0 0 0;\n",
              "      width: 32px;\n",
              "    }\n",
              "\n",
              "    .colab-df-convert:hover {\n",
              "      background-color: #E2EBFA;\n",
              "      box-shadow: 0px 1px 2px rgba(60, 64, 67, 0.3), 0px 1px 3px 1px rgba(60, 64, 67, 0.15);\n",
              "      fill: #174EA6;\n",
              "    }\n",
              "\n",
              "    [theme=dark] .colab-df-convert {\n",
              "      background-color: #3B4455;\n",
              "      fill: #D2E3FC;\n",
              "    }\n",
              "\n",
              "    [theme=dark] .colab-df-convert:hover {\n",
              "      background-color: #434B5C;\n",
              "      box-shadow: 0px 1px 3px 1px rgba(0, 0, 0, 0.15);\n",
              "      filter: drop-shadow(0px 1px 2px rgba(0, 0, 0, 0.3));\n",
              "      fill: #FFFFFF;\n",
              "    }\n",
              "  </style>\n",
              "\n",
              "      <script>\n",
              "        const buttonEl =\n",
              "          document.querySelector('#df-8a3b8438-a0b8-4e79-ac29-b02dd038d4bc button.colab-df-convert');\n",
              "        buttonEl.style.display =\n",
              "          google.colab.kernel.accessAllowed ? 'block' : 'none';\n",
              "\n",
              "        async function convertToInteractive(key) {\n",
              "          const element = document.querySelector('#df-8a3b8438-a0b8-4e79-ac29-b02dd038d4bc');\n",
              "          const dataTable =\n",
              "            await google.colab.kernel.invokeFunction('convertToInteractive',\n",
              "                                                     [key], {});\n",
              "          if (!dataTable) return;\n",
              "\n",
              "          const docLinkHtml = 'Like what you see? Visit the ' +\n",
              "            '<a target=\"_blank\" href=https://colab.research.google.com/notebooks/data_table.ipynb>data table notebook</a>'\n",
              "            + ' to learn more about interactive tables.';\n",
              "          element.innerHTML = '';\n",
              "          dataTable['output_type'] = 'display_data';\n",
              "          await google.colab.output.renderOutput(dataTable, element);\n",
              "          const docLink = document.createElement('div');\n",
              "          docLink.innerHTML = docLinkHtml;\n",
              "          element.appendChild(docLink);\n",
              "        }\n",
              "      </script>\n",
              "    </div>\n",
              "  </div>\n",
              "  "
            ]
          },
          "metadata": {},
          "execution_count": 84
        }
      ]
    },
    {
      "cell_type": "markdown",
      "metadata": {
        "id": "IBwunYpyugFg"
      },
      "source": [
        "# Training Config"
      ]
    },
    {
      "cell_type": "code",
      "execution_count": 113,
      "metadata": {
        "id": "CGoiXd70tb5z"
      },
      "outputs": [],
      "source": [
        "torch.cuda.empty_cache()\n",
        "model = Network(input_size=64, hidden_size=config['hidden_size']).to(device)\n",
        "summary(model, x.to(device), lx) # x and lx come from the sanity check above :)"
      ]
    },
    {
      "cell_type": "code",
      "execution_count": 96,
      "metadata": {
        "id": "iGoozH2nd6KB"
      },
      "outputs": [],
      "source": [
        "#TODO\n",
        "\n",
        "criterion = nn.CTCLoss()\n",
        "# Define CTC loss as the criterion. How would the losses be reduced?\n",
        "# CTC Loss: https://pytorch.org/docs/stable/generated/torch.nn.CTCLoss.html\n",
        "# Refer to the handout for hints\n",
        "\n",
        "optimizer =  torch.optim.AdamW(model.parameters(), lr=config['lr']) # What goes in here?\n",
        "\n",
        "# Declare the decoder. Use the CTC Beam Decoder to decode phonemes\n",
        "# CTC Beam Decoder Doc: https://github.com/parlance/ctcdecode\n",
        "decoder = CTCBeamDecoder(LABELS, model_path=None, alpha=0, beta=0, cutoff_top_n=40, cutoff_prob=0, beam_width=config['beam_width'], num_processes=4, blank_id=0, log_probs_input=True)\n",
        "\n",
        "scheduler = torch.optim.lr_scheduler.ReduceLROnPlateau(optimizer,factor=0.2,patience=3, threshold=0.01)\n",
        "# scheduler = torch.optim.lr_scheduler.OneCycleLR(optimizer, max_lr=config['lr'], epochs=config['epochs'], steps_per_epoch = len(train_loader), pct_start = config['pct_start'])\n",
        "\n",
        "# Mixed Precision, if you need it\n",
        "scaler = torch.cuda.amp.GradScaler()"
      ]
    },
    {
      "cell_type": "markdown",
      "metadata": {
        "id": "Jmc6_4eWL2Xp"
      },
      "source": [
        "## Decode Prediction"
      ]
    },
    {
      "cell_type": "code",
      "execution_count": 97,
      "metadata": {
        "id": "KHjnCDddL36E"
      },
      "outputs": [],
      "source": [
        "def decode_prediction(output, output_lens, decoder, PHONEME_MAP= LABELS):\n",
        "    \n",
        "    # TODO: look at docs for CTC.decoder and find out what is returned here. Check the shape of output and expected shape in decode.\n",
        "    beam_results, beam_scores, timesteps, out_lens = decoder.decode(output, seq_lens=output_lens) #lengths - list of lengths\n",
        "    # beam_results (B, N, T): each entry is a matrix that contains the output characters from each beam\n",
        "    # beam_scores (B, N): records the CTC score for each beam\n",
        "    # timesteps (B, N): The timestep at which the nth output character has peak probability\n",
        "    # out_lens (B, N): (i, j)-th entry is the length of the jth beam_result, of item i of your batch\n",
        "    pred_strings                    = []\n",
        "    for i in range(output_lens.shape[0]):\n",
        "        #TODO: Create the prediction from the output of decoder.decode. Don't forget to map it using PHONEMES_MAP.\n",
        "        most_likely_seq = beam_results[i][0]\n",
        "        most_likely_seq = most_likely_seq[0:out_lens[i][0]] # get rid of the extra useless length at the end\n",
        "        prediction = [PHONEME_MAP[ind] for ind in most_likely_seq]\n",
        "        prediction = \"\".join(prediction)\n",
        "        pred_strings.append(prediction)\n",
        "\n",
        "    return pred_strings\n",
        "\n",
        "def calculate_levenshtein(output, label, output_lens, label_lens, decoder, PHONEME_MAP= LABELS): # y - sequence of integers\n",
        "    \n",
        "    dist            = 0\n",
        "    batch_size      = label.shape[0]\n",
        "    pred_strings    = decode_prediction(output, output_lens, decoder, PHONEME_MAP)\n",
        "    \n",
        "    for i in range(batch_size):\n",
        "        # TODO: Get predicted string and label string for each element in the batch\n",
        "        prediction = pred_strings[i]\n",
        "        label_string = label[i][0:label_lens[i]]\n",
        "        label_string = [PHONEME_MAP[ind] for ind in label_string]\n",
        "        label_string = \"\".join(label_string)\n",
        "        dist += Levenshtein.distance(prediction, label_string)    \n",
        "\n",
        "    dist /= batch_size # TODO: Uncomment this, but think about why we are doing this\n",
        "    # raise NotImplemented\n",
        "    return dist"
      ]
    },
    {
      "cell_type": "code",
      "execution_count": 98,
      "metadata": {
        "id": "GnTLL-5gMBrY",
        "colab": {
          "base_uri": "https://localhost:8080/"
        },
        "outputId": "841fd976-442b-4a05-c6cb-e103cfb1d8e3"
      },
      "outputs": [
        {
          "output_type": "stream",
          "name": "stdout",
          "text": [
            "30.15625\n"
          ]
        }
      ],
      "source": [
        "# test code to check shapes\n",
        "\n",
        "model.eval()\n",
        "for i, data in enumerate(val_loader, 0):\n",
        "    x, y, lx, ly = data\n",
        "    x, y = x.to(device), y.to(device)\n",
        "    h, lh = model(x, lx)\n",
        "    loss = criterion(torch.permute(h, (1, 0, 2)), y, lh, ly)\n",
        "\n",
        "    print(calculate_levenshtein(h, y, lh, ly, decoder))\n",
        "\n",
        "    break"
      ]
    },
    {
      "cell_type": "markdown",
      "metadata": {
        "id": "rd5aNaLVoR_g"
      },
      "source": [
        "## wandb\n",
        "\n",
        "You will need to fetch your api key from wandb.ai"
      ]
    },
    {
      "cell_type": "code",
      "execution_count": 99,
      "metadata": {
        "id": "PiDduMaDIARE",
        "colab": {
          "base_uri": "https://localhost:8080/"
        },
        "outputId": "aaf2bebf-da81-4a56-971f-b2a3a3bf1960"
      },
      "outputs": [
        {
          "output_type": "stream",
          "name": "stderr",
          "text": [
            "\u001b[34m\u001b[1mwandb\u001b[0m: \u001b[33mWARNING\u001b[0m If you're specifying your api key in code, ensure this code is not shared publicly.\n",
            "\u001b[34m\u001b[1mwandb\u001b[0m: \u001b[33mWARNING\u001b[0m Consider setting the WANDB_API_KEY environment variable, or running `wandb login` from the command line.\n",
            "\u001b[34m\u001b[1mwandb\u001b[0m: Appending key for api.wandb.ai to your netrc file: /root/.netrc\n"
          ]
        },
        {
          "output_type": "execute_result",
          "data": {
            "text/plain": [
              "True"
            ]
          },
          "metadata": {},
          "execution_count": 99
        }
      ],
      "source": [
        "import wandb\n",
        "wandb.login(key=\"17b33e5165b64dc340be46f11e70984b346ab965\")"
      ]
    },
    {
      "cell_type": "code",
      "execution_count": 100,
      "metadata": {
        "id": "4s52yBOvICPZ",
        "colab": {
          "base_uri": "https://localhost:8080/",
          "height": 139
        },
        "outputId": "3a295e93-3951-47a5-d6d5-f86e3d89adec"
      },
      "outputs": [
        {
          "output_type": "display_data",
          "data": {
            "text/plain": [
              "<IPython.core.display.HTML object>"
            ],
            "text/html": [
              "wandb version 0.15.0 is available!  To upgrade, please run:\n",
              " $ pip install wandb --upgrade"
            ]
          },
          "metadata": {}
        },
        {
          "output_type": "display_data",
          "data": {
            "text/plain": [
              "<IPython.core.display.HTML object>"
            ],
            "text/html": [
              "Tracking run with wandb version 0.14.2"
            ]
          },
          "metadata": {}
        },
        {
          "output_type": "display_data",
          "data": {
            "text/plain": [
              "<IPython.core.display.HTML object>"
            ],
            "text/html": [
              "Run data is saved locally in <code>/content/wandb/run-20230427_225719-6h9df816</code>"
            ]
          },
          "metadata": {}
        },
        {
          "output_type": "display_data",
          "data": {
            "text/plain": [
              "<IPython.core.display.HTML object>"
            ],
            "text/html": [
              "Syncing run <strong><a href='https://wandb.ai/cmu-idl-s23/hw3p2-ablations/runs/6h9df816' target=\"_blank\">{'batch_size': 64, 'dropout': 0.15, 'embedding_size': 256, 'hidden_size': 256, 'tmask_length': 60, 'fmask': 3, 'beam_width': 2, 'lr': 0.001, 'epochs': 50, 'scheduler': 'reduceOnPlateau', 'pct_start': 0.1}</a></strong> to <a href='https://wandb.ai/cmu-idl-s23/hw3p2-ablations' target=\"_blank\">Weights & Biases</a> (<a href='https://wandb.me/run' target=\"_blank\">docs</a>)<br/>"
            ]
          },
          "metadata": {}
        },
        {
          "output_type": "display_data",
          "data": {
            "text/plain": [
              "<IPython.core.display.HTML object>"
            ],
            "text/html": [
              " View project at <a href='https://wandb.ai/cmu-idl-s23/hw3p2-ablations' target=\"_blank\">https://wandb.ai/cmu-idl-s23/hw3p2-ablations</a>"
            ]
          },
          "metadata": {}
        },
        {
          "output_type": "display_data",
          "data": {
            "text/plain": [
              "<IPython.core.display.HTML object>"
            ],
            "text/html": [
              " View run at <a href='https://wandb.ai/cmu-idl-s23/hw3p2-ablations/runs/6h9df816' target=\"_blank\">https://wandb.ai/cmu-idl-s23/hw3p2-ablations/runs/6h9df816</a>"
            ]
          },
          "metadata": {}
        }
      ],
      "source": [
        "run = wandb.init(\n",
        "    name = str(config), ## Wandb creates random run names if you skip this field\n",
        "    reinit = True, ### Allows reinitalizing runs when you re-run this cell\n",
        "    # run_id = ### Insert specific run id here if you want to resume a previous run\n",
        "    # resume = \"must\" ### You need this to resume previous runs, but comment out reinit = True when using this\n",
        "    project = \"hw3p2-ablations\", ### Project should be created in your wandb account \n",
        "    config = config ### Wandb Config for your run\n",
        ")"
      ]
    },
    {
      "cell_type": "markdown",
      "metadata": {
        "id": "6fLLj5KIMMOe"
      },
      "source": [
        "# Train Functions"
      ]
    },
    {
      "cell_type": "code",
      "execution_count": 104,
      "metadata": {
        "id": "ri87MAdhMUz5"
      },
      "outputs": [],
      "source": [
        "from tqdm import tqdm\n",
        "\n",
        "def train_model(model, train_loader, criterion, optimizer):\n",
        "    \n",
        "    model.train()\n",
        "    batch_bar = tqdm(total=len(train_loader), dynamic_ncols=True, leave=False, position=0, desc='Train') \n",
        "\n",
        "    total_loss = 0\n",
        "\n",
        "    for i, data in enumerate(train_loader):\n",
        "        optimizer.zero_grad()\n",
        "\n",
        "        x, y, lx, ly = data\n",
        "        x, y = x.to(device), y.to(device)\n",
        "\n",
        "        with torch.cuda.amp.autocast():     \n",
        "            h, lh = model(x, lx)\n",
        "            h = torch.permute(h, (1, 0, 2))\n",
        "            loss = criterion(h, y, lh, ly)\n",
        "\n",
        "        total_loss += loss.item()\n",
        "\n",
        "        batch_bar.set_postfix(\n",
        "            loss=\"{:.04f}\".format(float(total_loss / (i + 1))),\n",
        "            lr=\"{:.06f}\".format(float(optimizer.param_groups[0]['lr'])))\n",
        "\n",
        "        batch_bar.update() # Update tqdm bar\n",
        "\n",
        "        # Another couple things you need for FP16. \n",
        "        scaler.scale(loss).backward() # This is a replacement for loss.backward()\n",
        "        scaler.step(optimizer) # This is a replacement for optimizer.step()\n",
        "        scaler.update() # This is something added just for FP16\n",
        "        # scheduler.step()\n",
        "        del x, y, lx, ly, h, lh, loss \n",
        "        torch.cuda.empty_cache()\n",
        "    batch_bar.close() # You need this to close the tqdm bar\n",
        "    \n",
        "    return total_loss / len(train_loader)\n",
        "\n",
        "\n",
        "def validate_model(model, val_loader, decoder, phoneme_map= LABELS):\n",
        "\n",
        "    model.eval()\n",
        "    batch_bar = tqdm(total=len(val_loader), dynamic_ncols=True, position=0, leave=False, desc='Val')\n",
        "\n",
        "    total_loss = 0\n",
        "    vdist = 0\n",
        "\n",
        "    for i, data in enumerate(val_loader):\n",
        "\n",
        "        x, y, lx, ly = data\n",
        "        x, y = x.to(device), y.to(device)\n",
        "\n",
        "        with torch.inference_mode():\n",
        "            h, lh = model(x, lx)\n",
        "            h = torch.permute(h, (1, 0, 2))\n",
        "            loss = criterion(h, y, lh, ly)\n",
        "\n",
        "        total_loss += float(loss)\n",
        "        vdist += calculate_levenshtein(torch.permute(h, (1, 0, 2)), y, lh, ly, decoder, phoneme_map)\n",
        "\n",
        "        batch_bar.set_postfix(loss=\"{:.04f}\".format(float(total_loss / (i + 1))), dist=\"{:.04f}\".format(float(vdist / (i + 1))))\n",
        "\n",
        "        batch_bar.update()\n",
        "    \n",
        "        del x, y, lx, ly, h, lh, loss\n",
        "        torch.cuda.empty_cache()\n",
        "    batch_bar.close()\n",
        "    total_loss = total_loss/len(val_loader)\n",
        "    val_dist = vdist/len(val_loader)\n",
        "    return total_loss, val_dist"
      ]
    },
    {
      "cell_type": "markdown",
      "metadata": {
        "id": "qpYExu4vT4_g"
      },
      "source": [
        "### Training Setup"
      ]
    },
    {
      "cell_type": "code",
      "execution_count": 105,
      "metadata": {
        "id": "husa5_EYMUz6"
      },
      "outputs": [],
      "source": [
        "def save_model(model, optimizer, scheduler, metric, epoch, path):\n",
        "    torch.save(\n",
        "        {'model_state_dict'         : model.state_dict(),\n",
        "         'optimizer_state_dict'     : optimizer.state_dict(),\n",
        "         'scheduler_state_dict'     : scheduler.state_dict(),\n",
        "         metric[0]                  : metric[1], \n",
        "         'epoch'                    : epoch}, \n",
        "         path\n",
        "    )\n",
        "\n",
        "def load_model(path, model, metric= 'valid_acc', optimizer= None, scheduler= None):\n",
        "\n",
        "    checkpoint = torch.load(path)\n",
        "    model.load_state_dict(checkpoint['model_state_dict'])\n",
        "\n",
        "    if optimizer != None:\n",
        "        optimizer.load_state_dict(checkpoint['optimizer_state_dict'])\n",
        "    if scheduler != None:\n",
        "        scheduler.load_state_dict(checkpoint['scheduler_state_dict'])\n",
        "        \n",
        "    epoch   = checkpoint['epoch']\n",
        "    metric  = checkpoint[metric]\n",
        "\n",
        "    return [model, optimizer, scheduler, epoch, metric]"
      ]
    },
    {
      "cell_type": "code",
      "execution_count": 106,
      "metadata": {
        "id": "tExvyl1BIdMC"
      },
      "outputs": [],
      "source": [
        "# This is for checkpointing, if you're doing it over multiple sessions\n",
        "\n",
        "last_epoch_completed = 0\n",
        "start = last_epoch_completed\n",
        "end = config[\"epochs\"]\n",
        "best_lev_dist = float(\"inf\") # if you're restarting from some checkpoint, use what you saw there.\n",
        "epoch_model_path = 'hw3p2_current_checkpoint.pth'\n",
        "best_model_path = 'hw3p2_best_checkpoint.pth'"
      ]
    },
    {
      "cell_type": "code",
      "execution_count": null,
      "metadata": {
        "id": "JR43E28rM9Ak",
        "colab": {
          "base_uri": "https://localhost:8080/"
        },
        "outputId": "ba27bcb0-fbcd-452a-cbc3-f4a8414877f1"
      },
      "outputs": [
        {
          "metadata": {
            "tags": null
          },
          "name": "stderr",
          "output_type": "stream",
          "text": [
            ""
          ]
        },
        {
          "metadata": {
            "tags": null
          },
          "name": "stdout",
          "output_type": "stream",
          "text": [
            "\n",
            "Epoch: 1/50\n"
          ]
        },
        {
          "metadata": {
            "tags": null
          },
          "name": "stderr",
          "output_type": "stream",
          "text": [
            ""
          ]
        },
        {
          "metadata": {
            "tags": null
          },
          "name": "stdout",
          "output_type": "stream",
          "text": [
            "\tTrain Loss 0.7428\t Learning Rate 0.0010000\n",
            "\tVal Dist 9.0372%\t Val Loss 0.4133\n",
            "Saved epoch model\n",
            "Saved best model\n",
            "\n",
            "Epoch: 2/50\n"
          ]
        },
        {
          "metadata": {
            "tags": null
          },
          "name": "stderr",
          "output_type": "stream",
          "text": [
            ""
          ]
        },
        {
          "metadata": {
            "tags": null
          },
          "name": "stdout",
          "output_type": "stream",
          "text": [
            "\tTrain Loss 0.4281\t Learning Rate 0.0010000\n",
            "\tVal Dist 7.1060%\t Val Loss 0.3298\n",
            "Saved epoch model\n",
            "Saved best model\n",
            "\n",
            "Epoch: 3/50\n"
          ]
        },
        {
          "metadata": {
            "tags": null
          },
          "name": "stderr",
          "output_type": "stream",
          "text": [
            ""
          ]
        },
        {
          "metadata": {
            "tags": null
          },
          "name": "stdout",
          "output_type": "stream",
          "text": [
            "\tTrain Loss 0.3504\t Learning Rate 0.0010000\n",
            "\tVal Dist 6.1646%\t Val Loss 0.2897\n",
            "Saved epoch model\n",
            "Saved best model\n",
            "\n",
            "Epoch: 4/50\n"
          ]
        },
        {
          "metadata": {
            "tags": null
          },
          "name": "stderr",
          "output_type": "stream",
          "text": [
            ""
          ]
        },
        {
          "metadata": {
            "tags": null
          },
          "name": "stdout",
          "output_type": "stream",
          "text": [
            "\tTrain Loss 0.3110\t Learning Rate 0.0010000\n",
            "\tVal Dist 5.7620%\t Val Loss 0.2765\n",
            "Saved epoch model\n",
            "Saved best model\n",
            "\n",
            "Epoch: 5/50\n"
          ]
        },
        {
          "metadata": {
            "tags": null
          },
          "name": "stderr",
          "output_type": "stream",
          "text": [
            ""
          ]
        },
        {
          "metadata": {
            "tags": null
          },
          "name": "stdout",
          "output_type": "stream",
          "text": [
            "\tTrain Loss 0.2819\t Learning Rate 0.0010000\n",
            "\tVal Dist 5.3704%\t Val Loss 0.2638\n",
            "Saved epoch model\n",
            "Saved best model\n",
            "\n",
            "Epoch: 6/50\n"
          ]
        },
        {
          "metadata": {
            "tags": null
          },
          "name": "stderr",
          "output_type": "stream",
          "text": [
            ""
          ]
        },
        {
          "metadata": {
            "tags": null
          },
          "name": "stdout",
          "output_type": "stream",
          "text": [
            "\tTrain Loss 0.2594\t Learning Rate 0.0010000\n",
            "\tVal Dist 5.1215%\t Val Loss 0.2605\n",
            "Saved epoch model\n",
            "Saved best model\n",
            "\n",
            "Epoch: 7/50\n"
          ]
        },
        {
          "metadata": {
            "tags": null
          },
          "name": "stderr",
          "output_type": "stream",
          "text": [
            ""
          ]
        },
        {
          "metadata": {
            "tags": null
          },
          "name": "stdout",
          "output_type": "stream",
          "text": [
            "\tTrain Loss 0.2436\t Learning Rate 0.0010000\n",
            "\tVal Dist 4.9919%\t Val Loss 0.2623\n",
            "Saved epoch model\n",
            "Saved best model\n",
            "\n",
            "Epoch: 8/50\n"
          ]
        },
        {
          "output_type": "stream",
          "name": "stderr",
          "text": []
        },
        {
          "output_type": "stream",
          "name": "stdout",
          "text": [
            "\tTrain Loss 0.2305\t Learning Rate 0.0010000\n",
            "\tVal Dist 4.8380%\t Val Loss 0.2616\n",
            "Saved epoch model\n",
            "Saved best model\n",
            "\n",
            "Epoch: 9/50\n"
          ]
        },
        {
          "output_type": "stream",
          "name": "stderr",
          "text": []
        },
        {
          "output_type": "stream",
          "name": "stdout",
          "text": [
            "\tTrain Loss 0.2172\t Learning Rate 0.0010000\n",
            "\tVal Dist 4.7410%\t Val Loss 0.2590\n",
            "Saved epoch model\n",
            "Saved best model\n",
            "\n",
            "Epoch: 10/50\n"
          ]
        },
        {
          "output_type": "stream",
          "name": "stderr",
          "text": [
            "Train:  53%|█████▎    | 1105/2072 [16:32<13:24,  1.20it/s, loss=0.2078, lr=0.001000]"
          ]
        }
      ],
      "source": [
        "torch.cuda.empty_cache()\n",
        "gc.collect()\n",
        "\n",
        "#TODO: Please complete the training loop\n",
        "\n",
        "for epoch in range(0, config['epochs']):\n",
        "\n",
        "    print(\"\\nEpoch: {}/{}\".format(epoch+1, config['epochs']))\n",
        "    \n",
        "    curr_lr = float(optimizer.param_groups[0]['lr'])\n",
        "\n",
        "    train_loss              = train_model(model, train_loader, criterion, optimizer)\n",
        "    valid_loss, valid_dist  = validate_model(model, val_loader, decoder)\n",
        "    scheduler.step(valid_dist)\n",
        "\n",
        "    print(\"\\tTrain Loss {:.04f}\\t Learning Rate {:.07f}\".format(train_loss, curr_lr))\n",
        "    print(\"\\tVal Dist {:.04f}%\\t Val Loss {:.04f}\".format(valid_dist, valid_loss))\n",
        "\n",
        "\n",
        "    wandb.log({\n",
        "        'train_loss': train_loss,  \n",
        "        'valid_dist': valid_dist, \n",
        "        'valid_loss': valid_loss, \n",
        "        'lr'        : curr_lr\n",
        "    })\n",
        "    \n",
        "    save_model(model, optimizer, scheduler, ['valid_dist', valid_dist], epoch, epoch_model_path)\n",
        "    wandb.save(epoch_model_path)\n",
        "    print(\"Saved epoch model\")\n",
        "\n",
        "    if valid_dist <= best_lev_dist:\n",
        "        best_lev_dist = valid_dist\n",
        "        save_model(model, optimizer, scheduler, ['valid_dist', valid_dist], epoch, best_model_path)\n",
        "        wandb.save(best_model_path)\n",
        "        print(\"Saved best model\")"
      ]
    },
    {
      "cell_type": "code",
      "source": [
        "run.finish()"
      ],
      "metadata": {
        "colab": {
          "base_uri": "https://localhost:8080/",
          "height": 104
        },
        "id": "wnS_kmR5rX6i",
        "outputId": "e4c558d3-bb76-4251-99cc-ba24b8804fcd"
      },
      "execution_count": 94,
      "outputs": [
        {
          "output_type": "display_data",
          "data": {
            "text/plain": [
              "<IPython.core.display.HTML object>"
            ],
            "text/html": [
              "Waiting for W&B process to finish... <strong style=\"color:green\">(success).</strong>"
            ]
          },
          "metadata": {}
        },
        {
          "output_type": "display_data",
          "data": {
            "text/plain": [
              "<IPython.core.display.HTML object>"
            ],
            "text/html": [
              " View run <strong style=\"color:#cdcd00\">{'batch_size': 64, 'dropout': 0.15, 'embedding_size': 256, 'hidden_size': 256, 'tmask_length': 60, 'fmask': 3, 'beam_width': 2, 'lr': 0.001, 'epochs': 50, 'scheduler': 'oneCycleLR', 'pct_start': 0.1}</strong> at: <a href='https://wandb.ai/cmu-idl-s23/hw3p2-ablations/runs/fur1bz1q' target=\"_blank\">https://wandb.ai/cmu-idl-s23/hw3p2-ablations/runs/fur1bz1q</a><br/>Synced 5 W&B file(s), 0 media file(s), 0 artifact file(s) and 0 other file(s)"
            ]
          },
          "metadata": {}
        },
        {
          "output_type": "display_data",
          "data": {
            "text/plain": [
              "<IPython.core.display.HTML object>"
            ],
            "text/html": [
              "Find logs at: <code>./wandb/run-20230427_224631-fur1bz1q/logs</code>"
            ]
          },
          "metadata": {}
        }
      ]
    },
    {
      "cell_type": "markdown",
      "metadata": {
        "id": "M2H4EEj-sD32"
      },
      "source": [
        "# Generate Predictions and Submit to Kaggle"
      ]
    },
    {
      "cell_type": "code",
      "source": [
        "best_state_dict = torch.load('hw3p2_best_checkpoint.pth')\n",
        "best_model = ASRModel(input_size  = config['embedding_size'], embed_size  = config['hidden_size'], output_size = len(PHONEMES)).to(device)\n",
        "best_model.load_state_dict(best_state_dict['model_state_dict'])"
      ],
      "metadata": {
        "colab": {
          "base_uri": "https://localhost:8080/"
        },
        "id": "dYUxy2R_e-Lz",
        "outputId": "85fbe832-ad07-4326-bc3e-f8332fdd6b8b"
      },
      "execution_count": 63,
      "outputs": [
        {
          "output_type": "execute_result",
          "data": {
            "text/plain": [
              "<All keys matched successfully>"
            ]
          },
          "metadata": {},
          "execution_count": 63
        }
      ]
    },
    {
      "cell_type": "code",
      "execution_count": 64,
      "metadata": {
        "id": "2moYJhTWsOG-",
        "colab": {
          "base_uri": "https://localhost:8080/"
        },
        "outputId": "5186cdb7-be05-4588-8ca9-7946ccbba1bf"
      },
      "outputs": [
        {
          "output_type": "stream",
          "name": "stdout",
          "text": [
            "Testing\n"
          ]
        },
        {
          "output_type": "stream",
          "name": "stderr",
          "text": [
            "\n",
            "  0%|          | 0/41 [00:00<?, ?it/s]\u001b[A\n",
            "  2%|▏         | 1/41 [00:00<00:30,  1.32it/s]\u001b[A\n",
            "  5%|▍         | 2/41 [00:00<00:17,  2.23it/s]\u001b[A\n",
            "  7%|▋         | 3/41 [00:01<00:13,  2.90it/s]\u001b[A\n",
            " 10%|▉         | 4/41 [00:01<00:10,  3.61it/s]\u001b[A\n",
            " 12%|█▏        | 5/41 [00:01<00:08,  4.07it/s]\u001b[A\n",
            " 15%|█▍        | 6/41 [00:01<00:07,  4.78it/s]\u001b[A\n",
            " 20%|█▉        | 8/41 [00:02<00:06,  5.44it/s]\u001b[A\n",
            " 22%|██▏       | 9/41 [00:02<00:06,  5.22it/s]\u001b[A\n",
            " 24%|██▍       | 10/41 [00:02<00:06,  5.07it/s]\u001b[A\n",
            " 27%|██▋       | 11/41 [00:02<00:05,  5.83it/s]\u001b[A\n",
            " 29%|██▉       | 12/41 [00:02<00:04,  6.07it/s]\u001b[A\n",
            " 32%|███▏      | 13/41 [00:02<00:04,  6.59it/s]\u001b[A\n",
            " 34%|███▍      | 14/41 [00:03<00:04,  6.06it/s]\u001b[A\n",
            " 37%|███▋      | 15/41 [00:03<00:04,  5.62it/s]\u001b[A\n",
            " 39%|███▉      | 16/41 [00:03<00:04,  5.28it/s]\u001b[A\n",
            " 41%|████▏     | 17/41 [00:03<00:04,  4.99it/s]\u001b[A\n",
            " 44%|████▍     | 18/41 [00:03<00:04,  5.10it/s]\u001b[A\n",
            " 49%|████▉     | 20/41 [00:04<00:03,  5.73it/s]\u001b[A\n",
            " 51%|█████     | 21/41 [00:04<00:03,  5.54it/s]\u001b[A\n",
            " 54%|█████▎    | 22/41 [00:04<00:03,  5.41it/s]\u001b[A\n",
            " 56%|█████▌    | 23/41 [00:04<00:03,  5.36it/s]\u001b[A\n",
            " 61%|██████    | 25/41 [00:05<00:02,  5.90it/s]\u001b[A\n",
            " 63%|██████▎   | 26/41 [00:05<00:02,  6.00it/s]\u001b[A\n",
            " 66%|██████▌   | 27/41 [00:05<00:02,  6.49it/s]\u001b[A\n",
            " 68%|██████▊   | 28/41 [00:05<00:01,  6.87it/s]\u001b[A\n",
            " 71%|███████   | 29/41 [00:05<00:01,  6.44it/s]\u001b[A\n",
            " 73%|███████▎  | 30/41 [00:05<00:01,  7.02it/s]\u001b[A\n",
            " 76%|███████▌  | 31/41 [00:05<00:01,  6.70it/s]\u001b[A\n",
            " 78%|███████▊  | 32/41 [00:06<00:01,  6.11it/s]\u001b[A\n",
            " 80%|████████  | 33/41 [00:06<00:01,  6.00it/s]\u001b[A\n",
            " 83%|████████▎ | 34/41 [00:06<00:01,  5.90it/s]\u001b[A\n",
            " 85%|████████▌ | 35/41 [00:06<00:00,  6.04it/s]\u001b[A\n",
            " 88%|████████▊ | 36/41 [00:06<00:00,  5.25it/s]\u001b[A\n",
            " 90%|█████████ | 37/41 [00:07<00:00,  5.14it/s]\u001b[A\n",
            " 93%|█████████▎| 38/41 [00:07<00:00,  5.68it/s]\u001b[A\n",
            " 95%|█████████▌| 39/41 [00:07<00:00,  6.00it/s]\u001b[A\n",
            " 98%|█████████▊| 40/41 [00:07<00:00,  6.03it/s]\u001b[A\n",
            "100%|██████████| 41/41 [00:08<00:00,  5.12it/s]\n"
          ]
        }
      ],
      "source": [
        "#TODO: Make predictions\n",
        "\n",
        "# Follow the steps below:\n",
        "# 1. Create a new object for CTCBeamDecoder with larger (why?) number of beams\n",
        "# 2. Get prediction string by decoding the results of the beam decoder\n",
        "\n",
        "TEST_BEAM_WIDTH = 40\n",
        "\n",
        "test_decoder    = CTCBeamDecoder(LABELS, model_path=None, alpha=0, beta=0, cutoff_top_n=40, cutoff_prob=0, beam_width=TEST_BEAM_WIDTH, num_processes=4, blank_id=0, log_probs_input=True)\n",
        "results = []\n",
        "\n",
        "best_model.eval()\n",
        "print(\"Testing\")\n",
        "for data in tqdm(test_loader):\n",
        "\n",
        "    x, lx   = data\n",
        "    x       = x.to(device)\n",
        "\n",
        "    with torch.no_grad():\n",
        "        h, lh = best_model(x, lx)\n",
        "\n",
        "    prediction_string = decode_prediction(h, lh, test_decoder)\n",
        "    #TODO save the output in results array.\n",
        "    results.append(prediction_string)\n",
        "    \n",
        "    del x, lx, h, lh\n",
        "    torch.cuda.empty_cache()"
      ]
    },
    {
      "cell_type": "code",
      "source": [
        "RESULT = []\n",
        "for i in range(len(results)):\n",
        "  for j in range(len(results[i])):\n",
        "    RESULT.append(results[i][j])"
      ],
      "metadata": {
        "id": "9UfjFnyvuytM"
      },
      "execution_count": 65,
      "outputs": []
    },
    {
      "cell_type": "code",
      "execution_count": 66,
      "metadata": {
        "id": "d70dvu_lsMlv",
        "colab": {
          "base_uri": "https://localhost:8080/"
        },
        "outputId": "e3b20b78-ed57-447d-d474-86b41fc51490"
      },
      "outputs": [
        {
          "output_type": "stream",
          "name": "stdout",
          "text": [
            "Warning: Looks like you're using an outdated API Version, please consider updating (server 1.5.13 / client 1.5.8)\n",
            "100% 209k/209k [00:00<00:00, 402kB/s]\n",
            "Successfully submitted to Automatic Speech Recognition (ASR) Slack Kaggle"
          ]
        }
      ],
      "source": [
        "data_dir = \"hw3p2_submission.csv\"\n",
        "df = pd.DataFrame(columns=[\"index\", \"label\"])\n",
        "df.to_csv(\"hw3p2_submission.csv\", index=False)\n",
        "df = pd.read_csv(data_dir)\n",
        "df['label'] = RESULT\n",
        "df['index'] = np.array(range(2620))\n",
        "df.to_csv(\"hw3p2_submission.csv\", index=False)\n",
        "\n",
        "!kaggle competitions submit -c automatic-speech-recognition-asr-slack-kaggle -f hw3p2_submission.csv -m \"I made it!\"\n"
      ]
    },
    {
      "cell_type": "code",
      "source": [],
      "metadata": {
        "id": "4egExUvD3Srh"
      },
      "execution_count": null,
      "outputs": []
    }
  ],
  "metadata": {
    "accelerator": "GPU",
    "colab": {
      "collapsed_sections": [
        "qpYExu4vT4_g",
        "M2H4EEj-sD32"
      ],
      "provenance": []
    },
    "kernelspec": {
      "display_name": "Python 3",
      "language": "python",
      "name": "python3"
    },
    "language_info": {
      "codemirror_mode": {
        "name": "ipython",
        "version": 3
      },
      "file_extension": ".py",
      "mimetype": "text/x-python",
      "name": "python",
      "nbconvert_exporter": "python",
      "pygments_lexer": "ipython3",
      "version": "3.10.10 (main, Feb 16 2023, 02:49:39) [Clang 14.0.0 (clang-1400.0.29.202)]"
    },
    "vscode": {
      "interpreter": {
        "hash": "bd385fe162c5ca0c84973b7dd5c518456272446b2b64e67c2a69f949ca7a1754"
      }
    }
  },
  "nbformat": 4,
  "nbformat_minor": 0
}
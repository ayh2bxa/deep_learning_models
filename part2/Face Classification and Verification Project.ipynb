{
  "cells": [
    {
      "cell_type": "markdown",
      "metadata": {
        "id": "XBITN0M_LKds"
      },
      "source": [
        "# HW2P2: Face Classification and Verification\n"
      ]
    },
    {
      "cell_type": "markdown",
      "metadata": {
        "id": "-NH4P-HzLRQs"
      },
      "source": [
        "Congrats on coming to the second homework in 11785: Introduction to Deep Learning. This homework significantly longer and tougher than the previous homework. You have 2 sub-parts as outlined below. Please start early! \n",
        "\n",
        "\n",
        "*   Face Recognition: You will be writing your own CNN model to tackle the problem of classification, consisting of 7000 identities\n",
        "*   Face Verification: You use the model trained for classification to evaluate the quality of its feature embeddings, by comparing the similarity of known and unknown identities"
      ]
    },
    {
      "cell_type": "markdown",
      "metadata": {
        "id": "i1B_m84_cU6c"
      },
      "source": [
        "Common errors which you may face in this homeworks (because of the size of the model)\n",
        "\n",
        "\n",
        "*   CUDA Out of Memory (OOM): You can tackle this problem by (1) Reducing the batch size (2) Calling `torch.cuda.empty_cache()` and `gc.collect()` (3) Finally restarting the runtime\n",
        "\n"
      ]
    },
    {
      "cell_type": "markdown",
      "metadata": {
        "id": "BdoDIKWOMF59"
      },
      "source": [
        "# Preliminaries"
      ]
    },
    {
      "cell_type": "code",
      "execution_count": null,
      "metadata": {
        "id": "Jza7lwiScUhb",
        "colab": {
          "base_uri": "https://localhost:8080/"
        },
        "outputId": "060ce381-59a3-4f70-91bd-2329883a4700"
      },
      "outputs": [
        {
          "output_type": "stream",
          "name": "stdout",
          "text": [
            "Mon Mar 20 03:13:38 2023       \n",
            "+-----------------------------------------------------------------------------+\n",
            "| NVIDIA-SMI 525.85.12    Driver Version: 525.85.12    CUDA Version: 12.0     |\n",
            "|-------------------------------+----------------------+----------------------+\n",
            "| GPU  Name        Persistence-M| Bus-Id        Disp.A | Volatile Uncorr. ECC |\n",
            "| Fan  Temp  Perf  Pwr:Usage/Cap|         Memory-Usage | GPU-Util  Compute M. |\n",
            "|                               |                      |               MIG M. |\n",
            "|===============================+======================+======================|\n",
            "|   0  Tesla T4            Off  | 00000000:00:04.0 Off |                    0 |\n",
            "| N/A   54C    P8    10W /  70W |      0MiB / 15360MiB |      0%      Default |\n",
            "|                               |                      |                  N/A |\n",
            "+-------------------------------+----------------------+----------------------+\n",
            "                                                                               \n",
            "+-----------------------------------------------------------------------------+\n",
            "| Processes:                                                                  |\n",
            "|  GPU   GI   CI        PID   Type   Process name                  GPU Memory |\n",
            "|        ID   ID                                                   Usage      |\n",
            "|=============================================================================|\n",
            "|  No running processes found                                                 |\n",
            "+-----------------------------------------------------------------------------+\n"
          ]
        }
      ],
      "source": [
        "!nvidia-smi # to see what GPU you have"
      ]
    },
    {
      "cell_type": "code",
      "execution_count": null,
      "metadata": {
        "id": "bTxfd_nqFnL9"
      },
      "outputs": [],
      "source": [
        "# !pip install wandb==0.9.7 --quiet\n",
        "!pip install wandb --quiet"
      ]
    },
    {
      "cell_type": "code",
      "execution_count": null,
      "metadata": {
        "colab": {
          "base_uri": "https://localhost:8080/"
        },
        "id": "jwLEd0gdPbSc",
        "outputId": "a54ef739-5bf8-4ddb-b345-36410955afe6"
      },
      "outputs": [
        {
          "output_type": "stream",
          "name": "stdout",
          "text": [
            "Device:  cuda\n"
          ]
        }
      ],
      "source": [
        "import torch\n",
        "from torchsummary import summary\n",
        "from torch import nn\n",
        "import torchvision #This library is used for image-based operations (Augmentations)\n",
        "import os\n",
        "import gc\n",
        "from tqdm import tqdm\n",
        "from PIL import Image\n",
        "import numpy as np\n",
        "import pandas as pd\n",
        "from sklearn.metrics import accuracy_score\n",
        "import glob\n",
        "import wandb\n",
        "import matplotlib.pyplot as plt\n",
        "DEVICE = 'cuda' if torch.cuda.is_available() else 'cpu'\n",
        "print(\"Device: \", DEVICE)"
      ]
    },
    {
      "cell_type": "code",
      "execution_count": null,
      "metadata": {
        "colab": {
          "base_uri": "https://localhost:8080/"
        },
        "id": "SRz9et3SZnbO",
        "outputId": "0a4e937e-15b0-4113-9b30-7a0dfa1a7ceb"
      },
      "outputs": [
        {
          "output_type": "stream",
          "name": "stdout",
          "text": [
            "Mounted at /content/drive\n"
          ]
        }
      ],
      "source": [
        "from google.colab import drive # Link your drive if you are a colab user\n",
        "drive.mount('/content/drive') # Models in this HW take a long time to get trained and make sure to save it her"
      ]
    },
    {
      "cell_type": "markdown",
      "metadata": {
        "id": "1oxQNl-YVWHc"
      },
      "source": [
        "# TODOs\n",
        "As you go, please read the code and keep an eye out for TODOs!"
      ]
    },
    {
      "cell_type": "markdown",
      "metadata": {
        "id": "scOnMklwWBY6"
      },
      "source": [
        "# Download Data from Kaggle"
      ]
    },
    {
      "cell_type": "code",
      "execution_count": null,
      "metadata": {
        "id": "6BksgPdkQwwb",
        "colab": {
          "base_uri": "https://localhost:8080/"
        },
        "outputId": "2d9fdab3-86b9-4f0a-9d05-c006593eaa04"
      },
      "outputs": [
        {
          "output_type": "stream",
          "name": "stdout",
          "text": [
            "Looking in indexes: https://pypi.org/simple, https://us-python.pkg.dev/colab-wheels/public/simple/\n",
            "Collecting kaggle==1.5.8\n",
            "  Downloading kaggle-1.5.8.tar.gz (59 kB)\n",
            "\u001b[2K     \u001b[90m━━━━━━━━━━━━━━━━━━━━━━━━━━━━━━━━━━━━━━━━\u001b[0m \u001b[32m59.2/59.2 KB\u001b[0m \u001b[31m7.1 MB/s\u001b[0m eta \u001b[36m0:00:00\u001b[0m\n",
            "\u001b[?25h  Preparing metadata (setup.py) ... \u001b[?25l\u001b[?25hdone\n",
            "Building wheels for collected packages: kaggle\n",
            "  Building wheel for kaggle (setup.py) ... \u001b[?25l\u001b[?25hdone\n",
            "  Created wheel for kaggle: filename=kaggle-1.5.8-py3-none-any.whl size=73274 sha256=602f69bcac00983d4201d8c26dc8a9a0b3c8b3ccda202bf6e0bf1ef2e3e3765c\n",
            "  Stored in directory: /root/.cache/pip/wheels/f3/67/7b/a6d668747974998471d29b230e7221dd01330ac34faebe4af4\n",
            "Successfully built kaggle\n",
            "Installing collected packages: kaggle\n",
            "  Attempting uninstall: kaggle\n",
            "    Found existing installation: kaggle 1.5.12\n",
            "    Uninstalling kaggle-1.5.12:\n",
            "      Successfully uninstalled kaggle-1.5.12\n",
            "Successfully installed kaggle-1.5.8\n"
          ]
        }
      ],
      "source": [
        "!pip install --upgrade --force-reinstall --no-deps kaggle==1.5.8\n",
        "!mkdir /root/.kaggle\n",
        "\n",
        "with open(\"/root/.kaggle/kaggle.json\", \"w+\") as f:\n",
        "    f.write('{\"username\":\"ayh2cfa\",\"key\":\"924942fc523aefb5cd38a395654d3ca9\"}') \n",
        "    # Put your kaggle username & key here\n",
        "\n",
        "!chmod 600 /root/.kaggle/kaggle.json"
      ]
    },
    {
      "cell_type": "code",
      "execution_count": null,
      "metadata": {
        "id": "3oFjaJTaRjT7",
        "colab": {
          "base_uri": "https://localhost:8080/"
        },
        "outputId": "cee077fd-7e39-45ba-ed45-ebf304ed38bc"
      },
      "outputs": [
        {
          "output_type": "stream",
          "name": "stdout",
          "text": [
            "Downloading 11-785-s23-hw2p2-classification.zip to /content\n",
            " 99% 1.70G/1.72G [00:12<00:00, 170MB/s]\n",
            "100% 1.72G/1.72G [00:12<00:00, 150MB/s]\n",
            "Downloading 11-785-s23-hw2p2-verification.zip to /content\n",
            " 65% 11.0M/16.8M [00:00<00:00, 112MB/s]\n",
            "100% 16.8M/16.8M [00:00<00:00, 142MB/s]\n"
          ]
        }
      ],
      "source": [
        "!mkdir '/content/data'\n",
        "\n",
        "!kaggle competitions download -c 11-785-s23-hw2p2-classification\n",
        "!unzip -qo '11-785-s23-hw2p2-classification.zip' -d '/content/data'\n",
        "\n",
        "!kaggle competitions download -c 11-785-s23-hw2p2-verification\n",
        "!unzip -qo '11-785-s23-hw2p2-verification.zip' -d '/content/data'"
      ]
    },
    {
      "cell_type": "markdown",
      "metadata": {
        "id": "O68hT27SXClj"
      },
      "source": [
        "# Configs"
      ]
    },
    {
      "cell_type": "code",
      "execution_count": null,
      "metadata": {
        "id": "S7qpMxG0XCJz"
      },
      "outputs": [],
      "source": [
        "config = {\n",
        "    'batch_size': 64, # Increase this if your GPU can handle it\n",
        "    'lr': 0.004,\n",
        "    'gamma': 0.9,\n",
        "    'warmup': 5,\n",
        "    'dropout': 0.1,\n",
        "    'epochs': 100,\n",
        "    'architecture': 'ConvNext',\n",
        "    'scheduler': 'linear -> cosine',\n",
        "    'label smoothing': 0.2,\n",
        "    'transform': 'colorjit->resize->rotation->normalize->erase',\n",
        "    'b/c/s': 0.2,\n",
        "    'hue': 0.0,\n",
        "    'theta': 15,\n",
        "    'p_erase': 0.1,\n",
        "    'scale': (0.75, 1.0),\n",
        "    'antialias': True\n",
        "}"
      ]
    },
    {
      "cell_type": "markdown",
      "metadata": {
        "id": "sSeiKHYrM-6b"
      },
      "source": [
        "# Classification Dataset"
      ]
    },
    {
      "cell_type": "code",
      "execution_count": null,
      "metadata": {
        "id": "tmRX5omaNDEZ"
      },
      "outputs": [],
      "source": [
        "DATA_DIR    = '/content/data/11-785-s23-hw2p2-classification/'\n",
        "TRAIN_DIR   = os.path.join(DATA_DIR, \"train\") \n",
        "VAL_DIR     = os.path.join(DATA_DIR, \"dev\")\n",
        "TEST_DIR    = os.path.join(DATA_DIR, \"test\")\n",
        "\n",
        "# Transforms using torchvision - Refer https://pytorch.org/vision/stable/transforms.html\n",
        "\n",
        "prenorm_train_transforms = torchvision.transforms.Compose([\n",
        "    torchvision.transforms.ToTensor()\n",
        "])# Implementing the right train transforms/augmentation methods is key to improving performance.\n",
        "\n",
        "# Most torchvision transforms are done on PIL images. So you convert it into a tensor at the end with ToTensor()\n",
        "# But there are some transforms which are performed after ToTensor() : e.g - Normalization\n",
        "# Normalization Tip - Do not blindly use normalization that is not suitable for this dataset\n",
        "\n",
        "\n",
        "prenorm_train_dataset   = torchvision.datasets.ImageFolder(TRAIN_DIR, transform= prenorm_train_transforms)\n",
        "\n",
        "prenorm_train_loader = torch.utils.data.DataLoader(\n",
        "    dataset     = prenorm_train_dataset, \n",
        "    batch_size  = config['batch_size'], \n",
        "    shuffle     = True,\n",
        "    num_workers = 4, \n",
        "    pin_memory  = True\n",
        ")"
      ]
    },
    {
      "cell_type": "code",
      "source": [
        "psum    = torch.tensor([0.0, 0.0, 0.0])\n",
        "psum_sq = torch.tensor([0.0, 0.0, 0.0])\n",
        "\n",
        "for inputs in tqdm(prenorm_train_loader):\n",
        "  psum    += torch.sum(inputs[0],(0,2,3))\n",
        "  psum_sq += torch.sum(torch.square(inputs[0]),(0,2,3))\n",
        "\n",
        "cnt = prenorm_train_dataset.__len__()*224*224"
      ],
      "metadata": {
        "id": "FPhLz0tYl9_H"
      },
      "execution_count": null,
      "outputs": []
    },
    {
      "cell_type": "code",
      "source": [
        "mean = psum/cnt\n",
        "std = torch.sqrt((psum_sq/cnt)-(mean**2))\n",
        "print(mean)\n",
        "print(std)"
      ],
      "metadata": {
        "id": "FBmOxvpipWp8"
      },
      "execution_count": null,
      "outputs": []
    },
    {
      "cell_type": "code",
      "source": [
        "train_transforms = torchvision.transforms.Compose([\n",
        "    torchvision.transforms.ColorJitter(brightness=config['b/c/s'], contrast=config['b/c/s'], saturation=config['b/c/s'], hue=config['hue']),\n",
        "    torchvision.transforms.RandomResizedCrop((224,224), scale=config['scale'], antialias=config['antialias']),\n",
        "    torchvision.transforms.RandomRotation(config['theta']),\n",
        "    torchvision.transforms.ToTensor(),\n",
        "    torchvision.transforms.Normalize(mean,std),\n",
        "    torchvision.transforms.RandomErasing(p=config['p_erase'])\n",
        "])# Implementing the right train transforms/augmentation methods is key to improving performance.\n",
        "\n",
        "valid_transforms = torchvision.transforms.Compose([\n",
        "    torchvision.transforms.ToTensor()\n",
        "])\n",
        "\n",
        "train_dataset = torchvision.datasets.ImageFolder(TRAIN_DIR, transform= train_transforms)\n",
        "valid_dataset   = torchvision.datasets.ImageFolder(VAL_DIR, transform= valid_transforms)\n",
        "# You should NOT have data augmentation on the validation set. Why?\n",
        "\n",
        "\n",
        "# Create data loaders\n",
        "train_loader = torch.utils.data.DataLoader(\n",
        "    dataset     = train_dataset, \n",
        "    batch_size  = config['batch_size'], \n",
        "    shuffle     = True,\n",
        "    num_workers = 4, \n",
        "    pin_memory  = True\n",
        ")\n",
        "\n",
        "valid_loader = torch.utils.data.DataLoader(\n",
        "    dataset     = valid_dataset, \n",
        "    batch_size  = config['batch_size'],\n",
        "    shuffle     = False,\n",
        "    num_workers = 2\n",
        ")"
      ],
      "metadata": {
        "id": "yjVb2TFnY5uK"
      },
      "execution_count": null,
      "outputs": []
    },
    {
      "cell_type": "code",
      "execution_count": null,
      "metadata": {
        "id": "SqSR063BGE2e"
      },
      "outputs": [],
      "source": [
        "# You can do this with ImageFolder as well, but it requires some tweaking\n",
        "class ClassificationTestDataset(torch.utils.data.Dataset):\n",
        "\n",
        "    def __init__(self, data_dir, transforms):\n",
        "        self.data_dir   = data_dir\n",
        "        self.transforms = transforms\n",
        "\n",
        "        # This one-liner basically generates a sorted list of full paths to each image in the test directory\n",
        "        self.img_paths  = list(map(lambda fname: os.path.join(self.data_dir, fname), sorted(os.listdir(self.data_dir))))\n",
        "\n",
        "    def __len__(self):\n",
        "        return len(self.img_paths)\n",
        "    \n",
        "    def __getitem__(self, idx):\n",
        "        return self.transforms(Image.open(self.img_paths[idx]))"
      ]
    },
    {
      "cell_type": "code",
      "execution_count": null,
      "metadata": {
        "id": "fVLB41KtGC2o"
      },
      "outputs": [],
      "source": [
        "test_dataset = ClassificationTestDataset(TEST_DIR, transforms = valid_transforms) #Why are we using val_transforms for Test Data?\n",
        "test_loader = torch.utils.data.DataLoader(test_dataset, batch_size = config['batch_size'], shuffle = False,\n",
        "                         drop_last = False, num_workers = 2)"
      ]
    },
    {
      "cell_type": "code",
      "execution_count": null,
      "metadata": {
        "id": "x4t8eU9gY0Jy"
      },
      "outputs": [],
      "source": [
        "print(\"Number of classes    : \", len(train_dataset.classes))\n",
        "print(\"No. of train images  : \", train_dataset.__len__())\n",
        "print(\"Shape of image       : \", train_dataset[0][0].shape)\n",
        "print(\"Batch size           : \", config['batch_size'])\n",
        "print(\"Train batches        : \", train_loader.__len__())\n",
        "print(\"Val batches          : \", valid_loader.__len__())"
      ]
    },
    {
      "cell_type": "markdown",
      "metadata": {
        "id": "zs2Xw_tl0IQ8"
      },
      "source": [
        "## Data visualization"
      ]
    },
    {
      "cell_type": "code",
      "execution_count": null,
      "metadata": {
        "id": "xIoRUzCbz85y"
      },
      "outputs": [],
      "source": [
        "# Visualize a few images in the dataset\n",
        "# You can write your own code, and you don't need to understand the code\n",
        "# It is highly recommended that you visualize your data augmentation as sanity check\n",
        "\n",
        "r, c    = [5, 5]\n",
        "fig, ax = plt.subplots(r, c, figsize= (15, 15))\n",
        "\n",
        "k       = 0\n",
        "dtl     = torch.utils.data.DataLoader(\n",
        "    dataset     = torchvision.datasets.ImageFolder(TRAIN_DIR, transform= train_transforms), # dont wanna see the images with transforms\n",
        "    batch_size  = config['batch_size'], \n",
        "    shuffle     = True,\n",
        ")\n",
        "\n",
        "for data in dtl:\n",
        "    x, y = data\n",
        "    \n",
        "    for i in range(r):\n",
        "        for j in range(c):\n",
        "            img = x[k].numpy().transpose(1, 2, 0)\n",
        "            ax[i, j].imshow(img)\n",
        "            ax[i, j].axis('off')\n",
        "            k+=1\n",
        "    break\n",
        "\n",
        "del dtl"
      ]
    },
    {
      "cell_type": "markdown",
      "metadata": {
        "id": "mIqmojPaWD0H"
      },
      "source": [
        "# ConvNext"
      ]
    },
    {
      "cell_type": "code",
      "source": [
        "class BasicBlock(nn.Module): #BasicBlock\n",
        "  def __init__(self, in_channels, stride, downsample_layer = None):\n",
        "    super(BasicBlock, self).__init__()\n",
        "    self.downsample_layer = downsample_layer\n",
        "    self.activation = nn.GELU()\n",
        "    self.conv1 = nn.Conv2d(in_channels,in_channels,kernel_size=7,stride=stride,padding=3,groups=in_channels)\n",
        "    self.ln = nn.GroupNorm(num_groups=1, num_channels=in_channels)\n",
        "    self.conv2 = nn.Conv2d(in_channels,in_channels*4,kernel_size=1)\n",
        "    self.conv3 = nn.Conv2d(in_channels*4,in_channels,kernel_size=1)\n",
        "\n",
        "  def forward(self, x):\n",
        "    out = self.conv1(x)\n",
        "    out = self.ln(out)\n",
        "    out = self.conv2(out)\n",
        "    out = self.activation(out)\n",
        "    out = self.conv3(out)\n",
        "    if self.training:\n",
        "      out = torchvision.ops.stochastic_depth(out,p=config['dropout'],mode='row')\n",
        "    out += x\n",
        "    return out"
      ],
      "metadata": {
        "id": "b85Jazm1l_8f"
      },
      "execution_count": null,
      "outputs": []
    },
    {
      "cell_type": "code",
      "execution_count": null,
      "metadata": {
        "id": "Ny-mh_ocWIJR"
      },
      "outputs": [],
      "source": [
        "block_config = [3,3,9,3]\n",
        "\n",
        "class ConvNext(torch.nn.Module):\n",
        "    \"\"\"\n",
        "    ConvNext\n",
        "    \"\"\"\n",
        "\n",
        "    def __init__(self, block_config, num_classes=7000):\n",
        "        super().__init__()\n",
        "        self.conv1 = nn.Sequential(\n",
        "            nn.Conv2d(in_channels=3,out_channels=96,kernel_size=4,stride=4,padding=0),\n",
        "            nn.GroupNorm(num_groups=1, num_channels=96),\n",
        "        )\n",
        "\n",
        "        self.block_config = block_config\n",
        "\n",
        "        self.stage1 = self.make_stage(in_channels=96, blocks=block_config[0], stride=1)\n",
        "        self.ds1 = nn.Sequential(\n",
        "            nn.GroupNorm(num_groups=1, num_channels=96),\n",
        "            nn.Conv2d(in_channels=96,out_channels=192,kernel_size=2,stride=2,padding=0)\n",
        "        )\n",
        "        self.stage2 = self.make_stage(in_channels=192, blocks=block_config[1], stride=1)\n",
        "        self.ds2 = nn.Sequential(\n",
        "            nn.GroupNorm(num_groups=1, num_channels=192),\n",
        "            nn.Conv2d(in_channels=192,out_channels=384,kernel_size=2,stride=2,padding=0)\n",
        "        )\n",
        "        self.stage3 = self.make_stage(in_channels=384, blocks=block_config[2], stride=1)\n",
        "        self.ds3 = nn.Sequential(\n",
        "            nn.GroupNorm(num_groups=1, num_channels=384),\n",
        "            nn.Conv2d(in_channels=384,out_channels=768,kernel_size=2,stride=2,padding=0)\n",
        "        )\n",
        "        self.stage4 = self.make_stage(in_channels=768,blocks=block_config[3], stride=1)\n",
        "        self.stage5 = torch.nn.Sequential(nn.AdaptiveAvgPool2d(1))\n",
        "\n",
        "        self.cls_layer = torch.nn.Sequential(\n",
        "            nn.LayerNorm(768),\n",
        "            torch.nn.Linear(768*1*1, num_classes)\n",
        "        )\n",
        "\n",
        "    def make_stage(self, blocks, in_channels, stride, downsample_layer=None):\n",
        "      layers = []\n",
        "      for i in range(blocks):\n",
        "        layers.append(BasicBlock(in_channels, stride, downsample_layer))\n",
        "      \n",
        "      return nn.Sequential(*layers)\n",
        "    \n",
        "    def forward(self, x, return_feats=False):\n",
        "        x = self.conv1(x)\n",
        "        x = self.stage1(x)\n",
        "        x = self.ds1(x)\n",
        "        x = self.stage2(x)\n",
        "        x = self.ds2(x)\n",
        "        x = self.stage3(x)\n",
        "        x = self.ds3(x)\n",
        "        x = self.stage4(x)\n",
        "        feats = self.stage5(x)\n",
        "\n",
        "        feats = feats.view(feats.size(0),-1)\n",
        "        out = self.cls_layer(feats)\n",
        "\n",
        "        if return_feats:\n",
        "            return feats\n",
        "        else:\n",
        "            return out\n",
        "            \n",
        "model = ConvNext(block_config).to(DEVICE)\n",
        "# torchvision.models.resnet34\n",
        "summary(model, (3, 224, 224))"
      ]
    },
    {
      "cell_type": "code",
      "source": [
        "m = torchvision.models.convnext.convnext_tiny().to(DEVICE)\n",
        "# print(m)\n",
        "summary(m,(3, 224, 224))"
      ],
      "metadata": {
        "id": "qXjAB6cWTjOD"
      },
      "execution_count": null,
      "outputs": []
    },
    {
      "cell_type": "code",
      "source": [
        "class residual(nn.Module): #BasicBlock\n",
        "  def __init__(self, in_channels, out_channels):\n",
        "    super(residual, self).__init__()\n",
        "    self.downsample = nn.Sequential()\n",
        "    s = 1\n",
        "    \n",
        "    if in_channels != out_channels:\n",
        "      self.downsample = nn.Sequential(\n",
        "          nn.Conv2d(in_channels,out_channels,kernel_size=1,stride=2,padding=0)\n",
        "      )\n",
        "      s = 2\n",
        "    \n",
        "    self.conv = nn.Sequential(\n",
        "        nn.Conv2d(in_channels,out_channels,kernel_size=3,stride=s,padding=1),\n",
        "        nn.BatchNorm2d(out_channels),\n",
        "        nn.ReLU(),\n",
        "        nn.Conv2d(out_channels,out_channels,kernel_size=3,stride=1,padding=1),\n",
        "        nn.BatchNorm2d(out_channels)\n",
        "    )\n",
        "\n",
        "\n",
        "  def forward(self, x):\n",
        "    F = self.conv\n",
        "    output = F(x)\n",
        "    return nn.ReLU()(self.downsample(x)+output)"
      ],
      "metadata": {
        "id": "IALdkUCWY8lo"
      },
      "execution_count": null,
      "outputs": []
    },
    {
      "cell_type": "code",
      "source": [
        "class Network(torch.nn.Module):\n",
        "    \"\"\"\n",
        "    Resnet34\n",
        "    \"\"\"\n",
        "\n",
        "    def __init__(self, num_classes=7000):\n",
        "        super().__init__()\n",
        "        self.conv1 = nn.Sequential(\n",
        "            nn.Conv2d(in_channels=3,out_channels=64,kernel_size=7,stride=2,padding=3),\n",
        "            nn.BatchNorm2d(64),\n",
        "            nn.ReLU(),\n",
        "            nn.MaxPool2d(kernel_size=3,stride=2,padding=1)\n",
        "        )\n",
        "\n",
        "        self.conv2 = nn.Sequential(\n",
        "            residual(64,64),\n",
        "            residual(64,64),\n",
        "            residual(64,64)\n",
        "        )\n",
        "        self.conv3 = nn.Sequential(\n",
        "            residual(64,128),\n",
        "            residual(128,128),\n",
        "            residual(128,128),\n",
        "            residual(128,128),\n",
        "        )\n",
        "        self.conv4 = nn.Sequential(\n",
        "            residual(128,256),\n",
        "            residual(256,256),\n",
        "            residual(256,256),\n",
        "            residual(256,256),\n",
        "            residual(256,256),\n",
        "            residual(256,256)\n",
        "        )\n",
        "        self.conv5 = nn.Sequential(\n",
        "            residual(256,512),\n",
        "            residual(512,512),\n",
        "            residual(512,512),\n",
        "            nn.AdaptiveAvgPool2d(1)\n",
        "        )\n",
        "        self.cls_layer = torch.nn.Sequential(\n",
        "            torch.nn.Linear(512*1*1, num_classes)\n",
        "        )\n",
        "\n",
        "    def forward(self, x, return_feats=False):\n",
        "        x = self.conv1(x)\n",
        "        x = self.conv2(x)\n",
        "        x = self.conv3(x)\n",
        "        x = self.conv4(x)\n",
        "        feats = self.conv5(x)\n",
        "        feats = feats.view(feats.size(0),-1)\n",
        "        out = self.cls_layer(feats)\n",
        "\n",
        "        if return_feats:\n",
        "            return feats\n",
        "        else:\n",
        "            return out\n",
        "            \n",
        "model = Network().to(DEVICE)\n",
        "summary(model, (3, 224, 224))"
      ],
      "metadata": {
        "id": "R4jEwa5eZnt0"
      },
      "execution_count": null,
      "outputs": []
    },
    {
      "cell_type": "markdown",
      "metadata": {
        "id": "KZCn0qHuZRKj"
      },
      "source": [
        "# Setup everything for training"
      ]
    },
    {
      "cell_type": "code",
      "execution_count": null,
      "metadata": {
        "id": "UowI9OcUYPjP"
      },
      "outputs": [],
      "source": [
        "criterion = torch.nn.CrossEntropyLoss(label_smoothing=config['label smoothing'])\n",
        "optimizer = torch.optim.AdamW(model.parameters(), lr=config['lr'])\n",
        "# TODO: Implement a scheduler (Optional but Highly Recommended)\n",
        "# You can try ReduceLRonPlateau, StepLR, MultistepLR, CosineAnnealing, etc.\n",
        "scheduler_lin = torch.optim.lr_scheduler.LinearLR(optimizer, total_iters=config['warmup'], start_factor= (1/(config['warmup']+1)))\n",
        "scheduler_cos = torch.optim.lr_scheduler.CosineAnnealingLR(optimizer, T_max =(config['epochs']-config['warmup'])*len(train_loader))\n",
        "scaler = torch.cuda.amp.GradScaler() # Good news. We have FP16 (Mixed precision training) implemented for you\n",
        "# It is useful only in the case of compatible GPUs such as T4/V100"
      ]
    },
    {
      "cell_type": "markdown",
      "metadata": {
        "id": "dzM11HtcboYv"
      },
      "source": [
        "# Let's train!"
      ]
    },
    {
      "cell_type": "code",
      "execution_count": null,
      "metadata": {
        "id": "bgSw6iJJavBZ"
      },
      "outputs": [],
      "source": [
        "def train(model, dataloader, optimizer, criterion):\n",
        "    \n",
        "    model.train()\n",
        "\n",
        "    # Progress Bar \n",
        "    batch_bar   = tqdm(total=len(dataloader), dynamic_ncols=True, leave=False, position=0, desc='Train', ncols=5) \n",
        "\n",
        "    num_correct = 0\n",
        "    total_loss  = 0\n",
        "\n",
        "    for i, (images, labels) in enumerate(dataloader):\n",
        "        \n",
        "        optimizer.zero_grad() # Zero gradients\n",
        "\n",
        "        images, labels = images.to(DEVICE), labels.to(DEVICE)\n",
        "        \n",
        "        with torch.cuda.amp.autocast(): # This implements mixed precision. Thats it! \n",
        "            outputs = model(images)\n",
        "            loss    = criterion(outputs, labels)\n",
        "\n",
        "        # Update no. of correct predictions & loss as we iterate\n",
        "        num_correct     += int((torch.argmax(outputs, axis=1) == labels).sum())\n",
        "        total_loss      += float(loss.item())\n",
        "\n",
        "        # tqdm lets you add some details so you can monitor training as you train.\n",
        "        batch_bar.set_postfix(\n",
        "            acc         = \"{:.04f}%\".format(100 * num_correct / (config['batch_size']*(i + 1))),\n",
        "            loss        = \"{:.04f}\".format(float(total_loss / (i + 1))),\n",
        "            num_correct = num_correct,\n",
        "            lr          = \"{:.04f}\".format(float(optimizer.param_groups[0]['lr']))\n",
        "        )\n",
        "        \n",
        "        scaler.scale(loss).backward() # This is a replacement for loss.backward()\n",
        "        scaler.step(optimizer) # This is a replacement for optimizer.step()\n",
        "        scaler.update() \n",
        "\n",
        "        # TODO? Depending on your choice of scheduler,\n",
        "        # You may want to call some schdulers inside the train function. What are these?\n",
        "        scheduler_cos.step()\n",
        "        batch_bar.update() # Update tqdm bar\n",
        "\n",
        "    batch_bar.close() # You need this to close the tqdm bar\n",
        "\n",
        "    acc         = 100 * num_correct / (config['batch_size']* len(dataloader))\n",
        "    total_loss  = float(total_loss / len(dataloader))\n",
        "\n",
        "    return acc, total_loss"
      ]
    },
    {
      "cell_type": "code",
      "execution_count": null,
      "metadata": {
        "id": "m5V2UdnpdEoK"
      },
      "outputs": [],
      "source": [
        "def validate(model, dataloader, criterion):\n",
        "  \n",
        "    model.eval()\n",
        "    batch_bar = tqdm(total=len(dataloader), dynamic_ncols=True, position=0, leave=False, desc='Val', ncols=5)\n",
        "\n",
        "    num_correct = 0.0\n",
        "    total_loss = 0.0\n",
        "\n",
        "    for i, (images, labels) in enumerate(dataloader):\n",
        "        \n",
        "        # Move images to device\n",
        "        images, labels = images.to(DEVICE), labels.to(DEVICE)\n",
        "        \n",
        "        # Get model outputs\n",
        "        with torch.inference_mode():\n",
        "            outputs = model(images)\n",
        "            loss = criterion(outputs, labels)\n",
        "\n",
        "        num_correct += int((torch.argmax(outputs, axis=1) == labels).sum())\n",
        "        total_loss += float(loss.item())\n",
        "\n",
        "        batch_bar.set_postfix(\n",
        "            acc=\"{:.04f}%\".format(100 * num_correct / (config['batch_size']*(i + 1))),\n",
        "            loss=\"{:.04f}\".format(float(total_loss / (i + 1))),\n",
        "            num_correct=num_correct)\n",
        "\n",
        "        batch_bar.update()\n",
        "        \n",
        "    batch_bar.close()\n",
        "    acc = 100 * num_correct / (config['batch_size']* len(dataloader))\n",
        "    total_loss = float(total_loss / len(dataloader))\n",
        "    return acc, total_loss"
      ]
    },
    {
      "cell_type": "code",
      "execution_count": null,
      "metadata": {
        "id": "cmotca6pcLLY"
      },
      "outputs": [],
      "source": [
        "gc.collect() # These commands help you when you face CUDA OOM error\n",
        "torch.cuda.empty_cache()"
      ]
    },
    {
      "cell_type": "code",
      "source": [
        "model = ConvNext(block_config)\n",
        "torch.onnx.export(\n",
        "    model.eval(),\n",
        "    torch.ones(1, 3, 224, 224).float(),\n",
        "    \"my_model.onnx\",\n",
        "    opset_version=17)"
      ],
      "metadata": {
        "id": "LmhYQxgURsRG"
      },
      "execution_count": null,
      "outputs": []
    },
    {
      "cell_type": "markdown",
      "metadata": {
        "id": "2mBgKGkXLrdJ"
      },
      "source": [
        "# Wandb"
      ]
    },
    {
      "cell_type": "code",
      "execution_count": null,
      "metadata": {
        "id": "Ix62_BkaLr_D",
        "colab": {
          "base_uri": "https://localhost:8080/"
        },
        "outputId": "6ccfb05d-cc28-45e9-b7a9-3aad42aa4a3d"
      },
      "outputs": [
        {
          "output_type": "stream",
          "name": "stderr",
          "text": [
            "\u001b[34m\u001b[1mwandb\u001b[0m: \u001b[33mWARNING\u001b[0m If you're specifying your api key in code, ensure this code is not shared publicly.\n",
            "\u001b[34m\u001b[1mwandb\u001b[0m: \u001b[33mWARNING\u001b[0m Consider setting the WANDB_API_KEY environment variable, or running `wandb login` from the command line.\n",
            "\u001b[34m\u001b[1mwandb\u001b[0m: Appending key for api.wandb.ai to your netrc file: /root/.netrc\n"
          ]
        },
        {
          "output_type": "execute_result",
          "data": {
            "text/plain": [
              "True"
            ]
          },
          "metadata": {},
          "execution_count": 29
        }
      ],
      "source": [
        "wandb.login(key=\"17b33e5165b64dc340be46f11e70984b346ab965\") #API Key is in your wandb account, under settings (wandb.ai/settings)"
      ]
    },
    {
      "cell_type": "code",
      "source": [
        "api = wandb.Api()\n",
        "runs = api.runs(\"hw2p2-ablations\")"
      ],
      "metadata": {
        "id": "C5HjVvGIGC7S"
      },
      "execution_count": null,
      "outputs": []
    },
    {
      "cell_type": "code",
      "source": [
        "for run in runs:\n",
        "  print(run.config, run.id)"
      ],
      "metadata": {
        "id": "ZmvVXwG2GUEX"
      },
      "execution_count": null,
      "outputs": []
    },
    {
      "cell_type": "code",
      "execution_count": null,
      "metadata": {
        "id": "VG0vmsmbRYEi",
        "colab": {
          "base_uri": "https://localhost:8080/",
          "height": 122
        },
        "outputId": "627b963c-0ba3-4e90-957c-e311ee395c7a"
      },
      "outputs": [
        {
          "output_type": "display_data",
          "data": {
            "text/plain": [
              "<IPython.core.display.HTML object>"
            ],
            "text/html": [
              "Tracking run with wandb version 0.14.0"
            ]
          },
          "metadata": {}
        },
        {
          "output_type": "display_data",
          "data": {
            "text/plain": [
              "<IPython.core.display.HTML object>"
            ],
            "text/html": [
              "Run data is saved locally in <code>/content/wandb/run-20230320_034106-e7bvbbap</code>"
            ]
          },
          "metadata": {}
        },
        {
          "output_type": "display_data",
          "data": {
            "text/plain": [
              "<IPython.core.display.HTML object>"
            ],
            "text/html": [
              "Syncing run <strong><a href='https://wandb.ai/cmu-idl-s23/hw2p2-ablations/runs/e7bvbbap' target=\"_blank\">{'batch_size': 64, 'lr': 0.0045, 'gamma': 0.9, 'warmup': 10, 'dropout': 0.2, 'epochs': 100, 'architecture': 'ConvNext', 'scheduler': 'linear -> cosine', 'label smoothing': 0.1, 'transform': 'colorjit->resize->rotation->normalize->erase', 'b/c/s': 0.2, 'hue': 0.0, 'theta': 15, 'p_erase': 0.1, 'scale': (0.75, 1.0), 'antialias': True}</a></strong> to <a href='https://wandb.ai/cmu-idl-s23/hw2p2-ablations' target=\"_blank\">Weights & Biases</a> (<a href='https://wandb.me/run' target=\"_blank\">docs</a>)<br/>"
            ]
          },
          "metadata": {}
        },
        {
          "output_type": "display_data",
          "data": {
            "text/plain": [
              "<IPython.core.display.HTML object>"
            ],
            "text/html": [
              " View project at <a href='https://wandb.ai/cmu-idl-s23/hw2p2-ablations' target=\"_blank\">https://wandb.ai/cmu-idl-s23/hw2p2-ablations</a>"
            ]
          },
          "metadata": {}
        },
        {
          "output_type": "display_data",
          "data": {
            "text/plain": [
              "<IPython.core.display.HTML object>"
            ],
            "text/html": [
              " View run at <a href='https://wandb.ai/cmu-idl-s23/hw2p2-ablations/runs/e7bvbbap' target=\"_blank\">https://wandb.ai/cmu-idl-s23/hw2p2-ablations/runs/e7bvbbap</a>"
            ]
          },
          "metadata": {}
        }
      ],
      "source": [
        "# Create your wandb run\n",
        "run = wandb.init(\n",
        "    name = str(config), ## Wandb creates random run names if you skip this field\n",
        "    # resume = True,\n",
        "    reinit = True, ### Allows reinitalizing runs when you re-run this cell\n",
        "    # id = '5yybc3xr',\n",
        "    project = \"hw2p2-ablations\", ### Project should be created in your wandb account \n",
        "    config = config ### Wandb Config for your run\n",
        ")"
      ]
    },
    {
      "cell_type": "markdown",
      "metadata": {
        "id": "SQkRw1FvLqYe"
      },
      "source": [
        "# Experiments"
      ]
    },
    {
      "cell_type": "code",
      "execution_count": null,
      "metadata": {
        "id": "EqWO8Edb0BK2"
      },
      "outputs": [],
      "source": [
        "state_dict = torch.load(\"checkpoint.pth\")\n",
        "best_valacc = state_dict['val_acc']\n",
        "\n",
        "for epoch in range(config['warmup']):\n",
        "\n",
        "    curr_lr = float(optimizer.param_groups[0]['lr'])\n",
        "\n",
        "    train_acc, train_loss = train(model, train_loader, optimizer, criterion)\n",
        "    \n",
        "    print(\"\\nEpoch {}/{}: \\nTrain Acc {:.04f}%\\t Train Loss {:.04f}\\t Learning Rate {:.04f}\".format(\n",
        "        epoch + 1,\n",
        "        config['epochs'],\n",
        "        train_acc,\n",
        "        train_loss,\n",
        "        curr_lr))\n",
        "    \n",
        "    val_acc, val_loss = validate(model, valid_loader, criterion)\n",
        "    \n",
        "    print(\"Val Acc {:.04f}%\\t Val Loss {:.04f}\".format(val_acc, val_loss))\n",
        "\n",
        "    wandb.log({\"train_loss\":train_loss, 'train_Acc': train_acc, 'validation_Acc':val_acc, \n",
        "               'validation_loss': val_loss, \"learning_Rate\": curr_lr})\n",
        "    \n",
        "    scheduler_lin.step()\n",
        "    # If you are using a scheduler in your train function within your iteration loop, you may want to log\n",
        "    # your learning rate differently \n",
        "\n",
        "    # save current model\n",
        "    print('save curr model')\n",
        "    torch.save({'model_state_dict':model.state_dict(),\n",
        "            'optimizer_state_dict':optimizer.state_dict(),\n",
        "            'lin_scheduler_state_dict': scheduler_lin.state_dict(),\n",
        "            'cos_scheduler_state_dict':scheduler_cos.state_dict(),\n",
        "            'epoch': epoch}, 'curr_model.pth')\n",
        "    wandb.save('current_checkpoint.pth')\n",
        "    # #Save model in drive location if val_acc is better than best recorded val_acc\n",
        "    if val_acc >= best_valacc:\n",
        "      #path = os.path.join(root, model_directory, 'checkpoint' + '.pth')\n",
        "      print(\"Saving best model\")\n",
        "      torch.save({'model_state_dict':model.state_dict(),\n",
        "                  'optimizer_state_dict':optimizer.state_dict(),\n",
        "                  'scheduler_state_dict':scheduler_lin.state_dict(),\n",
        "                  'val_acc': val_acc, \n",
        "                  'epoch': epoch}, 'checkpoint.pth')\n",
        "      best_valacc = val_acc\n",
        "      wandb.save('checkpoint.pth')\n",
        "      # You may find it interesting to exlplore Wandb Artifcats to version your models\n",
        "\n",
        "for epoch in range(config['warmup'], config['epochs']):\n",
        "\n",
        "    curr_lr = float(optimizer.param_groups[0]['lr'])\n",
        "\n",
        "    train_acc, train_loss = train(model, train_loader, optimizer, criterion)\n",
        "    \n",
        "    print(\"\\nEpoch {}/{}: \\nTrain Acc {:.04f}%\\t Train Loss {:.04f}\\t Learning Rate {:.04f}\".format(\n",
        "        epoch + 1,\n",
        "        config['epochs'],\n",
        "        train_acc,\n",
        "        train_loss,\n",
        "        curr_lr))\n",
        "    \n",
        "    val_acc, val_loss = validate(model, valid_loader, criterion)\n",
        "    \n",
        "    print(\"Val Acc {:.04f}%\\t Val Loss {:.04f}\".format(val_acc, val_loss))\n",
        "\n",
        "    wandb.log({\"train_loss\":train_loss, 'train_Acc': train_acc, 'validation_Acc':val_acc, \n",
        "               'validation_loss': val_loss, \"learning_Rate\": curr_lr})\n",
        "    \n",
        "    \n",
        "    # If you are using a scheduler in your train function within your iteration loop, you may want to log\n",
        "    # your learning rate differently \n",
        "\n",
        "    # save current model\n",
        "    print('save curr model')\n",
        "    torch.save({'model_state_dict':model.state_dict(),\n",
        "            'optimizer_state_dict':optimizer.state_dict(),\n",
        "            'lin_scheduler_state_dict': scheduler_lin.state_dict(),\n",
        "            'cos_scheduler_state_dict':scheduler_cos.state_dict(),\n",
        "            'epoch': epoch}, 'curr_model.pth')\n",
        "    wandb.save('current_checkpoint.pth')\n",
        "\n",
        "    # #Save model in drive location if val_acc is better than best recorded val_acc\n",
        "    if val_acc >= best_valacc:\n",
        "      #path = os.path.join(root, model_directory, 'checkpoint' + '.pth')\n",
        "      print(\"Saving model\")\n",
        "      torch.save({'model_state_dict':model.state_dict(),\n",
        "                  'optimizer_state_dict':optimizer.state_dict(),\n",
        "                  'scheduler_state_dict':scheduler_cos.state_dict(),\n",
        "                  'val_acc': val_acc, \n",
        "                  'epoch': epoch}, 'checkpoint.pth')\n",
        "      best_valacc = val_acc\n",
        "      wandb.save('checkpoint.pth')\n",
        "      # You may find it interesting to exlplore Wandb Artifcats to version your models"
      ]
    },
    {
      "cell_type": "code",
      "source": [
        "best_state_dict = torch.load(\"drive/MyDrive/colab/11485/2/checkpoint.pth\")\n",
        "best_valacc = best_state_dict['val_acc']\n",
        "curr_state_dict = torch.load('drive/MyDrive/colab/11485/2/curr_model.pth')\n",
        "model = ConvNext(block_config).to(DEVICE)\n",
        "model.load_state_dict(curr_state_dict['model_state_dict'])\n",
        "optimizer = torch.optim.SGD(model.parameters(), lr=config['lr'], momentum=0.9, weight_decay=1e-4)\n",
        "optimizer.load_state_dict(curr_state_dict['optimizer_state_dict'])\n",
        "# scheduler_lin = torch.optim.lr_scheduler.LinearLR(optimizer, total_iters=config['warmup'], start_factor= (1/(config['warmup']+1)))\n",
        "scheduler_cos = torch.optim.lr_scheduler.CosineAnnealingLR(optimizer, T_max =(config['epochs']-config['warmup'])*len(train_loader))\n",
        "# scheduler_lin.load_state_dict(curr_state_dict['lin_scheduler_state_dict'])\n",
        "scheduler_cos.load_state_dict(curr_state_dict['cos_scheduler_state_dict'])"
      ],
      "metadata": {
        "id": "NSQ5y1wUPto8"
      },
      "execution_count": null,
      "outputs": []
    },
    {
      "cell_type": "code",
      "source": [
        "for epoch in range(curr_state_dict['epoch'],config['epochs']):\n",
        "\n",
        "    curr_lr = float(optimizer.param_groups[0]['lr'])\n",
        "\n",
        "    train_acc, train_loss = train(model, train_loader, optimizer, criterion)\n",
        "    \n",
        "    print(\"\\nEpoch {}/{}: \\nTrain Acc {:.04f}%\\t Train Loss {:.04f}\\t Learning Rate {:.04f}\".format(\n",
        "        epoch + 1,\n",
        "        config['epochs'],\n",
        "        train_acc,\n",
        "        train_loss,\n",
        "        curr_lr))\n",
        "    \n",
        "    val_acc, val_loss = validate(model, valid_loader, criterion)\n",
        "    \n",
        "    print(\"Val Acc {:.04f}%\\t Val Loss {:.04f}\".format(val_acc, val_loss))\n",
        "\n",
        "    wandb.log({\"train_loss\":train_loss, 'train_Acc': train_acc, 'validation_Acc':val_acc, \n",
        "               'validation_loss': val_loss, \"learning_Rate\": curr_lr})\n",
        "    \n",
        "    \n",
        "    # If you are using a scheduler in your train function within your iteration loop, you may want to log\n",
        "    # your learning rate differently \n",
        "    print(\"Saving current model\")\n",
        "    torch.save({'model_state_dict':model.state_dict(),\n",
        "                'optimizer_state_dict':optimizer.state_dict(),\n",
        "                'lin_scheduler_state_dict': scheduler_lin.state_dict(),\n",
        "                'cos_scheduler_state_dict':scheduler_cos.state_dict(),\n",
        "                'epoch': epoch}, 'drive/MyDrive/colab/11485/2/curr_model.pth')\n",
        "    wandb.save('current_checkpoint.pth')\n",
        "\n",
        "    # #Save model in drive location if val_acc is better than best recorded val_acc\n",
        "    if val_acc >= best_valacc:\n",
        "      #path = os.path.join(root, model_directory, 'checkpoint' + '.pth')\n",
        "      print(\"Saving best model\")\n",
        "      torch.save({'model_state_dict':model.state_dict(),\n",
        "                  'optimizer_state_dict':optimizer.state_dict(),\n",
        "                  'scheduler_state_dict':scheduler_cos.state_dict(),\n",
        "                  'val_acc': val_acc, \n",
        "                  'epoch': epoch}, 'drive/MyDrive/colab/11485/2/checkpoint.pth')\n",
        "      best_valacc = val_acc\n",
        "      wandb.save('checkpoint.pth')\n",
        "      # You may find it interesting to exlplore Wandb Artifcats to version your models"
      ],
      "metadata": {
        "id": "i9UETINUNh7-"
      },
      "execution_count": null,
      "outputs": []
    },
    {
      "cell_type": "code",
      "source": [
        "print(curr_state_dict['epoch'])"
      ],
      "metadata": {
        "colab": {
          "base_uri": "https://localhost:8080/"
        },
        "id": "QYfFVBXCKe7S",
        "outputId": "66748333-81f5-4dc3-ba47-f8c0c89963c3"
      },
      "execution_count": null,
      "outputs": [
        {
          "output_type": "stream",
          "name": "stdout",
          "text": [
            "46\n"
          ]
        }
      ]
    },
    {
      "cell_type": "code",
      "source": [
        "run.finish()"
      ],
      "metadata": {
        "id": "_gEoxidWGE89"
      },
      "execution_count": null,
      "outputs": []
    },
    {
      "cell_type": "markdown",
      "metadata": {
        "id": "UpgCHImRkYQW"
      },
      "source": [
        "# Classification Task: Testing"
      ]
    },
    {
      "cell_type": "code",
      "execution_count": null,
      "metadata": {
        "id": "U2WQEUjXkWvo"
      },
      "outputs": [],
      "source": [
        "def test(model,dataloader):\n",
        "\n",
        "  model.eval()\n",
        "  batch_bar = tqdm(total=len(dataloader), dynamic_ncols=True, position=0, leave=False, desc='Test')\n",
        "  test_results = []\n",
        "  \n",
        "  for i, (images) in enumerate(dataloader):\n",
        "      # TODO: Finish predicting on the test set.\n",
        "      images = images.to(DEVICE)\n",
        "\n",
        "      with torch.inference_mode():\n",
        "        outputs = model(images)\n",
        "\n",
        "      outputs = torch.argmax(outputs, axis=1).detach().cpu().numpy().tolist()\n",
        "      test_results.extend(outputs)\n",
        "      \n",
        "      batch_bar.update()\n",
        "      \n",
        "  batch_bar.close()\n",
        "  return test_results"
      ]
    },
    {
      "cell_type": "code",
      "source": [
        "state_dict = torch.load('drive/MyDrive/colab/11485/2/checkpoint.pth')\n",
        "\n",
        "model = Network().to(DEVICE)\n",
        "model.load_state_dict(state_dict['model_state_dict'])"
      ],
      "metadata": {
        "id": "-sgbF_XaTPUL"
      },
      "execution_count": null,
      "outputs": []
    },
    {
      "cell_type": "code",
      "execution_count": null,
      "metadata": {
        "id": "K7R1lcCAzULc"
      },
      "outputs": [],
      "source": [
        "test_results = test(model, test_loader)"
      ]
    },
    {
      "cell_type": "markdown",
      "metadata": {
        "id": "zqfUzwS2L1gx"
      },
      "source": [
        "## Generate csv to submit to Kaggle"
      ]
    },
    {
      "cell_type": "code",
      "execution_count": null,
      "metadata": {
        "id": "Vob9a2-HkW_V"
      },
      "outputs": [],
      "source": [
        "with open(\"classification_submission.csv\", \"w+\") as f:\n",
        "    f.write(\"id,label\\n\")\n",
        "    for i in range(len(test_dataset)):\n",
        "        f.write(\"{},{}\\n\".format(str(i).zfill(5) + \".jpg\", test_results[i]))"
      ]
    },
    {
      "cell_type": "code",
      "execution_count": null,
      "metadata": {
        "id": "GnRUN53CZMTf"
      },
      "outputs": [],
      "source": [
        "!kaggle competitions submit -c 11-785-s23-hw2p2-classification -f classification_submission.csv -m \"classification submission\""
      ]
    },
    {
      "cell_type": "markdown",
      "metadata": {
        "id": "7WYgUjJzUiGU"
      },
      "source": [
        "# Verification Task: Validation"
      ]
    },
    {
      "cell_type": "markdown",
      "metadata": {
        "id": "FoBFFF8-Lpvj"
      },
      "source": [
        "The verification task consists of the following generalized scenario:\n",
        "- You are given X unknown identitites \n",
        "- You are given Y known identitites\n",
        "- Your goal is to match X unknown identities to Y known identities.\n",
        "\n",
        "We have given you a verification dataset, that consists of 960 known identities, and 1080 unknown identities. The 1080 unknown identities are split into dev (360) and test (720). Your goal is to compare the unknown identities to the 1080 known identities and assign an identity to each image from the set of unknown identities. Some unknown identities do not have correspondence in known identities, you also need to identify these and label them with a special label n000000.\n",
        "\n",
        "Your will use/finetune your model trained for classification to compare images between known and unknown identities using a similarity metric and assign labels to the unknown identities. \n",
        "\n",
        "This will judge your model's performance in terms of the quality of embeddings/features it generates on images/faces it has never seen during training for classification."
      ]
    },
    {
      "cell_type": "code",
      "execution_count": null,
      "metadata": {
        "id": "f9aY5o-suWdn"
      },
      "outputs": [],
      "source": [
        "# This obtains the list of known identities from the known folder\n",
        "known_regex = \"/content/data/11-785-s23-hw2p2-verification/known/*/*\"\n",
        "known_paths = [i.split('/')[-2] for i in sorted(glob.glob(known_regex))]\n",
        "\n",
        "# Obtain a list of images from unknown folders\n",
        "unknown_dev_regex = \"/content/data/11-785-s23-hw2p2-verification/unknown_dev/*\"\n",
        "unknown_test_regex = \"/content/data/11-785-s23-hw2p2-verification/unknown_test/*\"\n",
        "\n",
        "# We load the images from known and unknown folders\n",
        "unknown_dev_images = [Image.open(p) for p in tqdm(sorted(glob.glob(unknown_dev_regex)))]\n",
        "unknown_test_images = [Image.open(p) for p in tqdm(sorted(glob.glob(unknown_test_regex)))]\n",
        "known_images = [Image.open(p) for p in tqdm(sorted(glob.glob(known_regex)))]\n",
        "\n",
        "# Why do you need only ToTensor() here?\n",
        "transforms = torchvision.transforms.Compose([\n",
        "    torchvision.transforms.ToTensor()])\n",
        "\n",
        "unknown_dev_images = torch.stack([transforms(x) for x in unknown_dev_images])\n",
        "unknown_test_images = torch.stack([transforms(x) for x in unknown_test_images])\n",
        "known_images  = torch.stack([transforms(y) for y in known_images ])\n",
        "#Print your shapes here to understand what we have done\n",
        "print(unknown_dev_images.shape)\n",
        "print(unknown_test_images.shape)\n",
        "\n",
        "# You can use other similarity metrics like Euclidean Distance if you wish\n",
        "similarity_metric = torch.nn.CosineSimilarity(dim= 1, eps= 1e-6) "
      ]
    },
    {
      "cell_type": "code",
      "execution_count": null,
      "metadata": {
        "id": "rk1LS0BRxFHM"
      },
      "outputs": [],
      "source": [
        "def eval_verification(unknown_images, known_images, model, similarity, batch_size= config['batch_size'], mode='val'): \n",
        "\n",
        "    unknown_feats, known_feats = [], []\n",
        "\n",
        "    batch_bar = tqdm(total=len(unknown_images)//batch_size, dynamic_ncols=True, position=0, leave=False, desc=mode)\n",
        "    model.eval()\n",
        "\n",
        "    # We load the images as batches for memory optimization and avoiding CUDA OOM errors\n",
        "    for i in range(0, unknown_images.shape[0], batch_size):\n",
        "        unknown_batch = unknown_images[i:i+batch_size] # Slice a given portion upto batch_size\n",
        "        \n",
        "        with torch.no_grad():\n",
        "            unknown_feat = model(unknown_batch.float().to(DEVICE), return_feats=True) #Get features from model         \n",
        "        unknown_feats.append(unknown_feat)\n",
        "        batch_bar.update()\n",
        "    \n",
        "    batch_bar.close()\n",
        "    \n",
        "    batch_bar = tqdm(total=len(known_images)//batch_size, dynamic_ncols=True, position=0, leave=False, desc=mode)\n",
        "    \n",
        "    for i in range(0, known_images.shape[0], batch_size):\n",
        "        known_batch = known_images[i:i+batch_size] \n",
        "        with torch.no_grad():\n",
        "              known_feat = model(known_batch.float().to(DEVICE), return_feats=True)\n",
        "          \n",
        "        known_feats.append(known_feat)\n",
        "        batch_bar.update()\n",
        "\n",
        "    batch_bar.close()\n",
        "\n",
        "    # Concatenate all the batches\n",
        "    unknown_feats = torch.cat(unknown_feats, dim=0)\n",
        "    known_feats = torch.cat(known_feats, dim=0)\n",
        "\n",
        "    similarity_values = torch.stack([similarity(unknown_feats, known_feature) for known_feature in known_feats])\n",
        "    # Print the inner list comprehension in a separate cell - what is really happening?\n",
        "\n",
        "    max_similarity_values, predictions = similarity_values.max(0) #Why are we doing an max here, where are the return values?\n",
        "    max_similarity_values, predictions = max_similarity_values.cpu().numpy(), predictions.cpu().numpy()\n",
        "\n",
        "\n",
        "    # Note that in unknown identities, there are identities without correspondence in known identities.\n",
        "    # Therefore, these identities should be not similar to all the known identities, i.e. max similarity will be below a certain \n",
        "    # threshold compared with those identities with correspondence.\n",
        "\n",
        "    # In early submission, you can ignore identities without correspondence, simply taking identity with max similarity value\n",
        "    pred_id_strings = [known_paths[i] for i in predictions] # Map argmax indices to identity strings\n",
        "    \n",
        "    # After early submission, remove the previous line and uncomment the following code \n",
        "\n",
        "    # threshold = # Choose a proper threshold\n",
        "    # NO_CORRESPONDENCE_LABEL = 'n000000'\n",
        "    # pred_id_strings = []\n",
        "    # for idx, prediction in enumerate(predictions):\n",
        "    #     if max_similarity_values[idx] < threshold: # why < ? Thank about what is your similarity metric\n",
        "    #         pred_id_strings.append(NO_CORRESPONDENCE_LABEL)\n",
        "    #     else:\n",
        "    #         pred_id_strings.append(known_paths[prediction])\n",
        "    \n",
        "    if mode == 'val':\n",
        "      true_ids = pd.read_csv('/content/data/11-785-s23-hw2p2-verification/verification_dev.csv')['label'].tolist()\n",
        "      accuracy = accuracy_score(pred_id_strings, true_ids)\n",
        "      print(\"Verification Accuracy = {}\".format(accuracy))\n",
        "    \n",
        "    return pred_id_strings"
      ]
    },
    {
      "cell_type": "code",
      "execution_count": null,
      "metadata": {
        "id": "zMC7FacaUnJ7"
      },
      "outputs": [],
      "source": [
        "# verification eval\n",
        "pred_id_strings = eval_verification(unknown_dev_images, known_images, model, similarity_metric, config['batch_size'], mode='val')\n",
        "# verification test\n",
        "pred_id_strings = eval_verification(unknown_test_images, known_images, model, similarity_metric, config['batch_size'], mode='test')"
      ]
    },
    {
      "cell_type": "code",
      "execution_count": null,
      "metadata": {
        "id": "1bCmzKfH7XgG"
      },
      "outputs": [],
      "source": [
        "# add your finetune/retrain code here"
      ]
    },
    {
      "cell_type": "markdown",
      "metadata": {
        "id": "iTLW0RPD7XGC"
      },
      "source": [
        "## Generate csv to submit to Kaggle"
      ]
    },
    {
      "cell_type": "code",
      "execution_count": null,
      "metadata": {
        "id": "fD-r-HmsAeWV"
      },
      "outputs": [],
      "source": [
        "with open(\"verification_submission.csv\", \"w+\") as f:\n",
        "    f.write(\"id,label\\n\")\n",
        "    for i in range(len(pred_id_strings)):\n",
        "        f.write(\"{},{}\\n\".format(i, pred_id_strings[i]))"
      ]
    },
    {
      "cell_type": "code",
      "execution_count": null,
      "metadata": {
        "id": "jPIgq0tMZ8qk"
      },
      "outputs": [],
      "source": [
        "!kaggle competitions submit -c 11-785-s23-hw2p2-verification -f verification_submission.csv -m \"verification submission\""
      ]
    }
  ],
  "metadata": {
    "accelerator": "GPU",
    "colab": {
      "machine_shape": "hm",
      "provenance": []
    },
    "kernelspec": {
      "display_name": "Python 3",
      "language": "python",
      "name": "python3"
    },
    "language_info": {
      "name": "python",
      "version": "3.9.6"
    },
    "vscode": {
      "interpreter": {
        "hash": "31f2aee4e71d21fbe5cf8b01ff0e069b9275f58929596ceb00d14d90e3e16cd6"
      }
    },
    "gpuClass": "standard"
  },
  "nbformat": 4,
  "nbformat_minor": 0
}